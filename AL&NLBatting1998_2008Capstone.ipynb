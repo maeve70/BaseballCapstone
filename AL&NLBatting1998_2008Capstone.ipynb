{
  "nbformat": 4,
  "nbformat_minor": 0,
  "metadata": {
    "colab": {
      "name": "AL&NLBatting1998_2008Capstone.ipynb",
      "provenance": [],
      "collapsed_sections": [],
      "include_colab_link": true
    },
    "kernelspec": {
      "name": "python3",
      "display_name": "Python 3"
    }
  },
  "cells": [
    {
      "cell_type": "markdown",
      "metadata": {
        "id": "view-in-github",
        "colab_type": "text"
      },
      "source": [
        "<a href=\"https://colab.research.google.com/github/maeve70/BaseballCapstone/blob/master/AL%26NLBatting1998_2008Capstone.ipynb\" target=\"_parent\"><img src=\"https://colab.research.google.com/assets/colab-badge.svg\" alt=\"Open In Colab\"/></a>"
      ]
    },
    {
      "cell_type": "code",
      "metadata": {
        "id": "7nTojfVd4vlS"
      },
      "source": [
        "import pandas as pd\n",
        "import numpy as np\n",
        "from scipy import stats\n",
        "import seaborn as sns; sns.set()\n",
        "\n",
        "import matplotlib.pyplot as plt\n",
        "import math\n",
        "\n",
        "\n",
        "# suppress warnings (warnings do not prevent the code from executing)\n",
        "import warnings\n",
        "warnings.filterwarnings(\"ignore\")\n"
      ],
      "execution_count": 1,
      "outputs": []
    },
    {
      "cell_type": "code",
      "metadata": {
        "id": "a8ZPLpsIgTm1"
      },
      "source": [
        "#from google.colab import drive\n",
        "#drive.mount('/content/gdrive')"
      ],
      "execution_count": null,
      "outputs": []
    },
    {
      "cell_type": "markdown",
      "metadata": {
        "id": "5jdMMXItikRI"
      },
      "source": [
        "I got all the batting data from baseball-reference dot com. Path: Seasons>All Seasons>League>Batting> then the years (from the middle of the page). On the webpage itself you can then remove the columns you don't want and export it as a csv. I did that for both leages, years 1998-2008, or, what's been called \"The Steroid Era.\" I then cleaned up 14K rows of data in Excel and combined AL & NL years, saved as a csv file.\n",
        "\n",
        "Following the years of changes to the evolving MLB drug policy (listed below before the statistical testing portion), I want to compare decades, specifically the “steroid era” or, 1998-2008, (in 1998, McGwire admitted to using a (then legal) drug that was related to steroids) to see if there is a statistically significant difference in the years for both leagues as well as the numbers for players in that time period. Other questions I have: Is one League more dominant than the other? How do those who tested positive &/or were suspended with PED use compare to the rest of the players? My null hypothesis is that drug use had no effect on the HR numbers over the various decades. Let's see what we find!\n",
        "*I decided to focus on HR numbers b/c OBP (on base %), SLG (Slugging %) & OPS (on-base + SLG) were already averages.*"
      ]
    },
    {
      "cell_type": "markdown",
      "metadata": {
        "id": "hRveK7fIkgvU"
      },
      "source": [
        "All my csv files have been shared via my GitHub repo.  There are 3 files in this notebook."
      ]
    },
    {
      "cell_type": "markdown",
      "metadata": {
        "id": "mA4lW4lzlgqx"
      },
      "source": [
        "This file (below) is just batting totals by league per year from 1876-2019. No specific breakdown by team or players\n"
      ]
    },
    {
      "cell_type": "code",
      "metadata": {
        "id": "PjD7pN63X-V_"
      },
      "source": [
        "BattingTotals = pd.read_csv('https://raw.githubusercontent.com/maeve70/BaseballCapstone/master/AL_NL_BattingTotals.csv')"
      ],
      "execution_count": 9,
      "outputs": []
    },
    {
      "cell_type": "markdown",
      "metadata": {
        "id": "VkLyc_F-mD-3"
      },
      "source": [
        "this file (below) is all the players who tested positive/were suspended & their records from 98-2008."
      ]
    },
    {
      "cell_type": "code",
      "metadata": {
        "id": "BfWUqympYaj7"
      },
      "source": [
        "PlayersPED = pd.read_csv('https://raw.githubusercontent.com/maeve70/BaseballCapstone/master/Players.csv')"
      ],
      "execution_count": 12,
      "outputs": []
    },
    {
      "cell_type": "markdown",
      "metadata": {
        "id": "fXcY57LAId_Z"
      },
      "source": [
        "This Players file is a list of all the players who tested positive in and/or were suspended. I got the list of names from Wikipedia & BleacherReport. All info available online."
      ]
    },
    {
      "cell_type": "markdown",
      "metadata": {
        "id": "Qi9hCdWEZx9a"
      },
      "source": [
        "The 98-2008 file (below) has every player, for the years 1998-2008, all teams and every team they played for batting totals. I compiled this dataset from the website, Baseball Reference dot com. This is the file to focus on and analyze."
      ]
    },
    {
      "cell_type": "code",
      "metadata": {
        "id": "B_ZpdPaRFZcE"
      },
      "source": [
        "AL_NLbatting98_2008 = pd.read_csv(\"https://raw.githubusercontent.com/maeve70/BaseballCapstone/master/AL_NL_98-2008BattingUpdated.csv\")"
      ],
      "execution_count": 4,
      "outputs": []
    },
    {
      "cell_type": "code",
      "metadata": {
        "id": "Vx4yeLrfGHH8",
        "colab": {
          "base_uri": "https://localhost:8080/"
        },
        "outputId": "20e4b0b1-833b-44b6-f424-00bd414aee62"
      },
      "source": [
        "AL_NLbatting98_2008.info()"
      ],
      "execution_count": 5,
      "outputs": [
        {
          "output_type": "stream",
          "text": [
            "<class 'pandas.core.frame.DataFrame'>\n",
            "RangeIndex: 13487 entries, 0 to 13486\n",
            "Data columns (total 21 columns):\n",
            " #   Column   Non-Null Count  Dtype  \n",
            "---  ------   --------------  -----  \n",
            " 0   Year     13487 non-null  int64  \n",
            " 1   League   13487 non-null  object \n",
            " 2   Name     13487 non-null  object \n",
            " 3   Age      13465 non-null  float64\n",
            " 4   Team     13465 non-null  object \n",
            " 5   G        13487 non-null  int64  \n",
            " 6   PA       13487 non-null  int64  \n",
            " 7   AB       13487 non-null  int64  \n",
            " 8   R        13487 non-null  int64  \n",
            " 9   H        13487 non-null  int64  \n",
            " 10  2B       13487 non-null  int64  \n",
            " 11  3B       13487 non-null  int64  \n",
            " 12  HR       13487 non-null  int64  \n",
            " 13  RBI      13487 non-null  int64  \n",
            " 14  BB       13487 non-null  int64  \n",
            " 15  SO       13487 non-null  int64  \n",
            " 16  Hits/AB  11265 non-null  float64\n",
            " 17  OBP      11310 non-null  float64\n",
            " 18  SLG      11265 non-null  float64\n",
            " 19  OPS      11265 non-null  float64\n",
            " 20  TB       13486 non-null  float64\n",
            "dtypes: float64(6), int64(12), object(3)\n",
            "memory usage: 2.2+ MB\n"
          ],
          "name": "stdout"
        }
      ]
    },
    {
      "cell_type": "markdown",
      "metadata": {
        "id": "HbJ0Ac3PGSRT"
      },
      "source": [
        "This df (below) is annual totals from the years 1867-2019. (both leagues)"
      ]
    },
    {
      "cell_type": "code",
      "metadata": {
        "colab": {
          "base_uri": "https://localhost:8080/",
          "height": 165
        },
        "id": "7rMihrslacPg",
        "outputId": "584ed7a7-1dbd-4c46-a6e9-42aa962e34b3"
      },
      "source": [
        "BattingTotals.head(2)"
      ],
      "execution_count": 11,
      "outputs": [
        {
          "output_type": "execute_result",
          "data": {
            "text/html": [
              "<div>\n",
              "<style scoped>\n",
              "    .dataframe tbody tr th:only-of-type {\n",
              "        vertical-align: middle;\n",
              "    }\n",
              "\n",
              "    .dataframe tbody tr th {\n",
              "        vertical-align: top;\n",
              "    }\n",
              "\n",
              "    .dataframe thead th {\n",
              "        text-align: right;\n",
              "    }\n",
              "</style>\n",
              "<table border=\"1\" class=\"dataframe\">\n",
              "  <thead>\n",
              "    <tr style=\"text-align: right;\">\n",
              "      <th></th>\n",
              "      <th>Year</th>\n",
              "      <th>League</th>\n",
              "      <th>Teams</th>\n",
              "      <th>No of Bat</th>\n",
              "      <th>Batter Age</th>\n",
              "      <th>Runs Scored per gm</th>\n",
              "      <th>Games</th>\n",
              "      <th>Plate app</th>\n",
              "      <th>At Bats</th>\n",
              "      <th>Runs</th>\n",
              "      <th>Hits</th>\n",
              "      <th>2B</th>\n",
              "      <th>3B</th>\n",
              "      <th>HR</th>\n",
              "      <th>RBI</th>\n",
              "      <th>Walks</th>\n",
              "      <th>SO</th>\n",
              "      <th>Hits/AB</th>\n",
              "      <th>OBP</th>\n",
              "      <th>SLG</th>\n",
              "      <th>OPS</th>\n",
              "      <th>TB</th>\n",
              "    </tr>\n",
              "  </thead>\n",
              "  <tbody>\n",
              "    <tr>\n",
              "      <th>0</th>\n",
              "      <td>2019</td>\n",
              "      <td>AL</td>\n",
              "      <td>15</td>\n",
              "      <td>543</td>\n",
              "      <td>27.9</td>\n",
              "      <td>4.90</td>\n",
              "      <td>1873</td>\n",
              "      <td>71893</td>\n",
              "      <td>64404</td>\n",
              "      <td>9182</td>\n",
              "      <td>16356</td>\n",
              "      <td>3359</td>\n",
              "      <td>300</td>\n",
              "      <td>2688</td>\n",
              "      <td>8754</td>\n",
              "      <td>6103</td>\n",
              "      <td>16338</td>\n",
              "      <td>0.254</td>\n",
              "      <td>0.323</td>\n",
              "      <td>0.441</td>\n",
              "      <td>0.764</td>\n",
              "      <td>28379</td>\n",
              "    </tr>\n",
              "    <tr>\n",
              "      <th>1</th>\n",
              "      <td>2018</td>\n",
              "      <td>AL</td>\n",
              "      <td>15</td>\n",
              "      <td>603</td>\n",
              "      <td>28.2</td>\n",
              "      <td>4.53</td>\n",
              "      <td>2430</td>\n",
              "      <td>92254</td>\n",
              "      <td>82710</td>\n",
              "      <td>10999</td>\n",
              "      <td>20615</td>\n",
              "      <td>4271</td>\n",
              "      <td>390</td>\n",
              "      <td>2900</td>\n",
              "      <td>10490</td>\n",
              "      <td>7637</td>\n",
              "      <td>20206</td>\n",
              "      <td>0.249</td>\n",
              "      <td>0.318</td>\n",
              "      <td>0.415</td>\n",
              "      <td>0.734</td>\n",
              "      <td>34366</td>\n",
              "    </tr>\n",
              "  </tbody>\n",
              "</table>\n",
              "</div>"
            ],
            "text/plain": [
              "   Year League  Teams  No of Bat  ...    OBP    SLG    OPS     TB\n",
              "0  2019     AL     15        543  ...  0.323  0.441  0.764  28379\n",
              "1  2018     AL     15        603  ...  0.318  0.415  0.734  34366\n",
              "\n",
              "[2 rows x 22 columns]"
            ]
          },
          "metadata": {
            "tags": []
          },
          "execution_count": 11
        }
      ]
    },
    {
      "cell_type": "code",
      "metadata": {
        "id": "91QV4KmPGODS",
        "colab": {
          "base_uri": "https://localhost:8080/"
        },
        "outputId": "ef0a11b2-f651-4d38-e1d1-8bd4862bfd28"
      },
      "source": [
        "BattingTotals.info()"
      ],
      "execution_count": 10,
      "outputs": [
        {
          "output_type": "stream",
          "text": [
            "<class 'pandas.core.frame.DataFrame'>\n",
            "RangeIndex: 263 entries, 0 to 262\n",
            "Data columns (total 22 columns):\n",
            " #   Column              Non-Null Count  Dtype  \n",
            "---  ------              --------------  -----  \n",
            " 0   Year                263 non-null    int64  \n",
            " 1   League              263 non-null    object \n",
            " 2   Teams               263 non-null    int64  \n",
            " 3   No of Bat           263 non-null    int64  \n",
            " 4   Batter Age          263 non-null    float64\n",
            " 5   Runs Scored per gm  263 non-null    float64\n",
            " 6   Games               263 non-null    int64  \n",
            " 7   Plate app           263 non-null    int64  \n",
            " 8   At Bats             263 non-null    int64  \n",
            " 9   Runs                263 non-null    int64  \n",
            " 10  Hits                263 non-null    int64  \n",
            " 11  2B                  263 non-null    int64  \n",
            " 12  3B                  263 non-null    int64  \n",
            " 13  HR                  263 non-null    int64  \n",
            " 14  RBI                 263 non-null    int64  \n",
            " 15  Walks               263 non-null    int64  \n",
            " 16  SO                  263 non-null    int64  \n",
            " 17  Hits/AB             263 non-null    float64\n",
            " 18  OBP                 263 non-null    float64\n",
            " 19  SLG                 263 non-null    float64\n",
            " 20  OPS                 263 non-null    float64\n",
            " 21  TB                  263 non-null    int64  \n",
            "dtypes: float64(6), int64(15), object(1)\n",
            "memory usage: 45.3+ KB\n"
          ],
          "name": "stdout"
        }
      ]
    },
    {
      "cell_type": "markdown",
      "metadata": {
        "id": "4oMWRwSqXbBg"
      },
      "source": [
        "This DF(below) is a list of players who tested positive and/or were suspended."
      ]
    },
    {
      "cell_type": "code",
      "metadata": {
        "id": "A1N3kSrR2AE1"
      },
      "source": [
        "PlayersPED = pd.read_csv('https://raw.githubusercontent.com/maeve70/BaseballCapstone/master/Players.csv', header=None)"
      ],
      "execution_count": 16,
      "outputs": []
    },
    {
      "cell_type": "code",
      "metadata": {
        "id": "AkVvaJCu21At",
        "colab": {
          "base_uri": "https://localhost:8080/",
          "height": 204
        },
        "outputId": "8a7bf4b6-e54b-47b3-8eae-05bf44a781e8"
      },
      "source": [
        "PlayersPED.columns = ['Name']\n",
        "PlayersPED.head()"
      ],
      "execution_count": 17,
      "outputs": [
        {
          "output_type": "execute_result",
          "data": {
            "text/html": [
              "<div>\n",
              "<style scoped>\n",
              "    .dataframe tbody tr th:only-of-type {\n",
              "        vertical-align: middle;\n",
              "    }\n",
              "\n",
              "    .dataframe tbody tr th {\n",
              "        vertical-align: top;\n",
              "    }\n",
              "\n",
              "    .dataframe thead th {\n",
              "        text-align: right;\n",
              "    }\n",
              "</style>\n",
              "<table border=\"1\" class=\"dataframe\">\n",
              "  <thead>\n",
              "    <tr style=\"text-align: right;\">\n",
              "      <th></th>\n",
              "      <th>Name</th>\n",
              "    </tr>\n",
              "  </thead>\n",
              "  <tbody>\n",
              "    <tr>\n",
              "      <th>0</th>\n",
              "      <td>Aaron Boone</td>\n",
              "    </tr>\n",
              "    <tr>\n",
              "      <th>1</th>\n",
              "      <td>Adrian Beltre</td>\n",
              "    </tr>\n",
              "    <tr>\n",
              "      <th>2</th>\n",
              "      <td>Alex Rodriguez</td>\n",
              "    </tr>\n",
              "    <tr>\n",
              "      <th>3</th>\n",
              "      <td>Alfonso Soriano</td>\n",
              "    </tr>\n",
              "    <tr>\n",
              "      <th>4</th>\n",
              "      <td>Andres Galarraga</td>\n",
              "    </tr>\n",
              "  </tbody>\n",
              "</table>\n",
              "</div>"
            ],
            "text/plain": [
              "               Name\n",
              "0       Aaron Boone\n",
              "1     Adrian Beltre\n",
              "2    Alex Rodriguez\n",
              "3   Alfonso Soriano\n",
              "4  Andres Galarraga"
            ]
          },
          "metadata": {
            "tags": []
          },
          "execution_count": 17
        }
      ]
    },
    {
      "cell_type": "code",
      "metadata": {
        "id": "iniGgWRRJUtx",
        "colab": {
          "base_uri": "https://localhost:8080/"
        },
        "outputId": "ae53cd01-d3b6-4ec7-d6c6-47420929e329"
      },
      "source": [
        "PlayersPED.info()"
      ],
      "execution_count": 18,
      "outputs": [
        {
          "output_type": "stream",
          "text": [
            "<class 'pandas.core.frame.DataFrame'>\n",
            "RangeIndex: 76 entries, 0 to 75\n",
            "Data columns (total 1 columns):\n",
            " #   Column  Non-Null Count  Dtype \n",
            "---  ------  --------------  ----- \n",
            " 0   Name    76 non-null     object\n",
            "dtypes: object(1)\n",
            "memory usage: 736.0+ bytes\n"
          ],
          "name": "stdout"
        }
      ]
    },
    {
      "cell_type": "code",
      "metadata": {
        "id": "4OuZPOma3QIK",
        "colab": {
          "base_uri": "https://localhost:8080/"
        },
        "outputId": "87c2e158-b78f-4ac7-90f5-c12bcd8ef330"
      },
      "source": [
        "PlayersPositive = PlayersPED['Name'].unique()\n",
        "\n",
        "print(PlayersPositive)"
      ],
      "execution_count": 19,
      "outputs": [
        {
          "output_type": "stream",
          "text": [
            "['Aaron\\xa0Boone' 'Adrian\\xa0Beltre' 'Alex\\xa0Rodriguez'\n",
            " 'Alfonso\\xa0Soriano' 'Andres\\xa0Galarraga' 'Aramis\\xa0Ramirez'\n",
            " 'Barry\\xa0Bonds' 'Ben\\xa0Weber' 'Benito\\xa0Santiago' 'Bobby\\xa0Abreu'\n",
            " 'Brent\\xa0Abernathy' 'Bret\\xa0Boone' 'Brian\\xa0Roberts' 'Carl\\xa0Everett'\n",
            " 'Carlos\\xa0Delgado' 'Casey\\xa0Blake' 'Cliff\\xa0Floyd'\n",
            " 'Corey\\xa0Patterson' 'Craig\\xa0Monroe' 'Craig\\xa0Wilson' 'Dan\\xa0Smith'\n",
            " 'Danys\\xa0Baez' 'David\\xa0Ortiz' 'Derrek\\xa0Lee' 'Dmitri\\xa0Young'\n",
            " 'Eric\\xa0Byrnes' 'Eric\\xa0Chavez' 'Fernando\\xa0Tatis'\n",
            " 'Frank\\xa0Catalanotto' 'Freddy\\xa0Garcia' 'Gary\\xa0Matthews'\n",
            " 'Gary\\xa0Sheffield' 'Geoff\\xa0Jenkins' 'Ivan\\xa0Rodriguez'\n",
            " 'Jason\\xa0Giambi' 'Javy\\xa0Lopez' 'Jay\\xa0Gibbons' 'Jeromy\\xa0Burnitz'\n",
            " 'Jerry\\xa0Hairston' 'Johnny\\xa0Damon' 'Jose\\xa0Canseco'\n",
            " 'Jose\\xa0Contreras' 'Jose\\xa0Guillen' 'Juan\\xa0Gonzalez' 'Kris\\xa0Benson'\n",
            " 'Luis\\xa0Gonzalez' 'Magglio\\xa0Ordonez' 'Manny\\xa0Ramirez'\n",
            " 'Mark\\xa0McGwire' 'Melvin\\xa0Mora' 'Miguel\\xa0Tejada' 'Mike\\xa0Cameron'\n",
            " 'Milton\\xa0Bradley' 'Moises\\xa0Alou' 'Nomar\\xa0Garciaparra'\n",
            " 'Paul\\xa0Lo\\xa0Duca' 'Rafael\\xa0Palmeiro' 'Rafael\\xa0Soriano'\n",
            " 'Randy\\xa0Winn' 'Raul\\xa0Mondesi' 'Rich\\xa0Aurilia' 'Richie\\xa0Sexson'\n",
            " 'Roberto\\xa0Alomar' 'Roger\\xa0Cedeno' 'Ryan\\xa0Franklin' 'Ryan\\xa0Klesko'\n",
            " 'Sammy\\xa0Sosa' 'Sandy\\xa0Alomar' 'Scott\\xa0Spiezio' 'Shawn\\xa0Green'\n",
            " 'Shea\\xa0Hillenbrand' 'Todd\\xa0Helton' 'Tony\\xa0Armas' 'Trot\\xa0Nixon'\n",
            " 'Troy\\xa0Glaus' 'Vernon\\xa0Wells']\n"
          ],
          "name": "stdout"
        }
      ]
    },
    {
      "cell_type": "markdown",
      "metadata": {
        "id": "0F66uZhF_rgL"
      },
      "source": [
        "\n",
        "\n",
        "Create a DF with the players who tested positive and/or were suspended. ie: remove the players from the AL_NL98_2008 DF."
      ]
    },
    {
      "cell_type": "code",
      "metadata": {
        "id": "ALuGzJmC4CWm",
        "colab": {
          "base_uri": "https://localhost:8080/",
          "height": 204
        },
        "outputId": "d1e842ff-a549-4763-ceb4-881357f841a1"
      },
      "source": [
        "Positive= AL_NLbatting98_2008[AL_NLbatting98_2008['Name'].isin(PlayersPositive)]\n",
        "Positive['tested'] = \"positive\"\n",
        "Positive.head(5)"
      ],
      "execution_count": 20,
      "outputs": [
        {
          "output_type": "execute_result",
          "data": {
            "text/html": [
              "<div>\n",
              "<style scoped>\n",
              "    .dataframe tbody tr th:only-of-type {\n",
              "        vertical-align: middle;\n",
              "    }\n",
              "\n",
              "    .dataframe tbody tr th {\n",
              "        vertical-align: top;\n",
              "    }\n",
              "\n",
              "    .dataframe thead th {\n",
              "        text-align: right;\n",
              "    }\n",
              "</style>\n",
              "<table border=\"1\" class=\"dataframe\">\n",
              "  <thead>\n",
              "    <tr style=\"text-align: right;\">\n",
              "      <th></th>\n",
              "      <th>Year</th>\n",
              "      <th>League</th>\n",
              "      <th>Name</th>\n",
              "      <th>Age</th>\n",
              "      <th>Team</th>\n",
              "      <th>G</th>\n",
              "      <th>PA</th>\n",
              "      <th>AB</th>\n",
              "      <th>R</th>\n",
              "      <th>H</th>\n",
              "      <th>2B</th>\n",
              "      <th>3B</th>\n",
              "      <th>HR</th>\n",
              "      <th>RBI</th>\n",
              "      <th>BB</th>\n",
              "      <th>SO</th>\n",
              "      <th>Hits/AB</th>\n",
              "      <th>OBP</th>\n",
              "      <th>SLG</th>\n",
              "      <th>OPS</th>\n",
              "      <th>TB</th>\n",
              "      <th>tested</th>\n",
              "    </tr>\n",
              "  </thead>\n",
              "  <tbody>\n",
              "    <tr>\n",
              "      <th>6</th>\n",
              "      <td>1998</td>\n",
              "      <td>AL</td>\n",
              "      <td>Roberto Alomar</td>\n",
              "      <td>30.0</td>\n",
              "      <td>BAL</td>\n",
              "      <td>147</td>\n",
              "      <td>657</td>\n",
              "      <td>588</td>\n",
              "      <td>86</td>\n",
              "      <td>166</td>\n",
              "      <td>36</td>\n",
              "      <td>1</td>\n",
              "      <td>14</td>\n",
              "      <td>56</td>\n",
              "      <td>59</td>\n",
              "      <td>70</td>\n",
              "      <td>0.282</td>\n",
              "      <td>0.347</td>\n",
              "      <td>0.418</td>\n",
              "      <td>0.765</td>\n",
              "      <td>246.0</td>\n",
              "      <td>positive</td>\n",
              "    </tr>\n",
              "    <tr>\n",
              "      <th>7</th>\n",
              "      <td>1998</td>\n",
              "      <td>AL</td>\n",
              "      <td>Sandy Alomar</td>\n",
              "      <td>32.0</td>\n",
              "      <td>CLE</td>\n",
              "      <td>117</td>\n",
              "      <td>438</td>\n",
              "      <td>409</td>\n",
              "      <td>45</td>\n",
              "      <td>96</td>\n",
              "      <td>26</td>\n",
              "      <td>2</td>\n",
              "      <td>6</td>\n",
              "      <td>44</td>\n",
              "      <td>18</td>\n",
              "      <td>45</td>\n",
              "      <td>0.235</td>\n",
              "      <td>0.270</td>\n",
              "      <td>0.352</td>\n",
              "      <td>0.622</td>\n",
              "      <td>144.0</td>\n",
              "      <td>positive</td>\n",
              "    </tr>\n",
              "    <tr>\n",
              "      <th>65</th>\n",
              "      <td>1998</td>\n",
              "      <td>AL</td>\n",
              "      <td>Mike Cameron</td>\n",
              "      <td>25.0</td>\n",
              "      <td>CHW</td>\n",
              "      <td>141</td>\n",
              "      <td>443</td>\n",
              "      <td>396</td>\n",
              "      <td>53</td>\n",
              "      <td>83</td>\n",
              "      <td>16</td>\n",
              "      <td>5</td>\n",
              "      <td>8</td>\n",
              "      <td>43</td>\n",
              "      <td>37</td>\n",
              "      <td>101</td>\n",
              "      <td>0.210</td>\n",
              "      <td>0.285</td>\n",
              "      <td>0.336</td>\n",
              "      <td>0.621</td>\n",
              "      <td>133.0</td>\n",
              "      <td>positive</td>\n",
              "    </tr>\n",
              "    <tr>\n",
              "      <th>67</th>\n",
              "      <td>1998</td>\n",
              "      <td>AL</td>\n",
              "      <td>Jose Canseco</td>\n",
              "      <td>33.0</td>\n",
              "      <td>TOR</td>\n",
              "      <td>151</td>\n",
              "      <td>658</td>\n",
              "      <td>583</td>\n",
              "      <td>98</td>\n",
              "      <td>138</td>\n",
              "      <td>26</td>\n",
              "      <td>0</td>\n",
              "      <td>46</td>\n",
              "      <td>107</td>\n",
              "      <td>65</td>\n",
              "      <td>159</td>\n",
              "      <td>0.237</td>\n",
              "      <td>0.318</td>\n",
              "      <td>0.518</td>\n",
              "      <td>0.836</td>\n",
              "      <td>302.0</td>\n",
              "      <td>positive</td>\n",
              "    </tr>\n",
              "    <tr>\n",
              "      <th>76</th>\n",
              "      <td>1998</td>\n",
              "      <td>AL</td>\n",
              "      <td>Frank Catalanotto</td>\n",
              "      <td>24.0</td>\n",
              "      <td>DET</td>\n",
              "      <td>89</td>\n",
              "      <td>234</td>\n",
              "      <td>213</td>\n",
              "      <td>23</td>\n",
              "      <td>60</td>\n",
              "      <td>13</td>\n",
              "      <td>2</td>\n",
              "      <td>6</td>\n",
              "      <td>25</td>\n",
              "      <td>12</td>\n",
              "      <td>39</td>\n",
              "      <td>0.282</td>\n",
              "      <td>0.325</td>\n",
              "      <td>0.446</td>\n",
              "      <td>0.771</td>\n",
              "      <td>95.0</td>\n",
              "      <td>positive</td>\n",
              "    </tr>\n",
              "  </tbody>\n",
              "</table>\n",
              "</div>"
            ],
            "text/plain": [
              "    Year League               Name   Age  ...    SLG    OPS     TB    tested\n",
              "6   1998     AL     Roberto Alomar  30.0  ...  0.418  0.765  246.0  positive\n",
              "7   1998     AL       Sandy Alomar  32.0  ...  0.352  0.622  144.0  positive\n",
              "65  1998     AL       Mike Cameron  25.0  ...  0.336  0.621  133.0  positive\n",
              "67  1998     AL       Jose Canseco  33.0  ...  0.518  0.836  302.0  positive\n",
              "76  1998     AL  Frank Catalanotto  24.0  ...  0.446  0.771   95.0  positive\n",
              "\n",
              "[5 rows x 22 columns]"
            ]
          },
          "metadata": {
            "tags": []
          },
          "execution_count": 20
        }
      ]
    },
    {
      "cell_type": "code",
      "metadata": {
        "id": "vGn70CwxJyW6",
        "colab": {
          "base_uri": "https://localhost:8080/"
        },
        "outputId": "c9fc04d8-e16c-4f85-a308-f06505088d92"
      },
      "source": [
        "Positive.info()"
      ],
      "execution_count": 21,
      "outputs": [
        {
          "output_type": "stream",
          "text": [
            "<class 'pandas.core.frame.DataFrame'>\n",
            "Int64Index: 766 entries, 6 to 13482\n",
            "Data columns (total 22 columns):\n",
            " #   Column   Non-Null Count  Dtype  \n",
            "---  ------   --------------  -----  \n",
            " 0   Year     766 non-null    int64  \n",
            " 1   League   766 non-null    object \n",
            " 2   Name     766 non-null    object \n",
            " 3   Age      766 non-null    float64\n",
            " 4   Team     766 non-null    object \n",
            " 5   G        766 non-null    int64  \n",
            " 6   PA       766 non-null    int64  \n",
            " 7   AB       766 non-null    int64  \n",
            " 8   R        766 non-null    int64  \n",
            " 9   H        766 non-null    int64  \n",
            " 10  2B       766 non-null    int64  \n",
            " 11  3B       766 non-null    int64  \n",
            " 12  HR       766 non-null    int64  \n",
            " 13  RBI      766 non-null    int64  \n",
            " 14  BB       766 non-null    int64  \n",
            " 15  SO       766 non-null    int64  \n",
            " 16  Hits/AB  747 non-null    float64\n",
            " 17  OBP      747 non-null    float64\n",
            " 18  SLG      747 non-null    float64\n",
            " 19  OPS      747 non-null    float64\n",
            " 20  TB       766 non-null    float64\n",
            " 21  tested   766 non-null    object \n",
            "dtypes: float64(6), int64(12), object(4)\n",
            "memory usage: 137.6+ KB\n"
          ],
          "name": "stdout"
        }
      ]
    },
    {
      "cell_type": "markdown",
      "metadata": {
        "id": "wRG6lWd__2uh"
      },
      "source": [
        "Also create a df without the players in order to compare.\n"
      ]
    },
    {
      "cell_type": "markdown",
      "metadata": {
        "id": "YieR8Y9lL1sJ"
      },
      "source": [
        "*Keep in mind: There are 766 rows b/c players' names appear more than once--ie: they played for more than one team."
      ]
    },
    {
      "cell_type": "code",
      "metadata": {
        "id": "HAbmfh6zH0iI",
        "colab": {
          "base_uri": "https://localhost:8080/"
        },
        "outputId": "3652fa8b-27b0-426d-d23d-af30e47ae614"
      },
      "source": [
        "Positive.shape"
      ],
      "execution_count": 22,
      "outputs": [
        {
          "output_type": "execute_result",
          "data": {
            "text/plain": [
              "(766, 22)"
            ]
          },
          "metadata": {
            "tags": []
          },
          "execution_count": 22
        }
      ]
    },
    {
      "cell_type": "markdown",
      "metadata": {
        "id": "sl6lMCmQI3r1"
      },
      "source": [
        "Create a DF with all the other players who did not test positive for PEDs."
      ]
    },
    {
      "cell_type": "code",
      "metadata": {
        "id": "rkiJ1PYw_9Td",
        "colab": {
          "base_uri": "https://localhost:8080/",
          "height": 204
        },
        "outputId": "bf663d9f-55e8-4ac9-cfbb-43c8ccc4a60a"
      },
      "source": [
        "#Or for \"NOT IN\", use: ~something.isin(somewhere)\n",
        "#Ex: df[~df.countries.isin(countries)]\n",
        "\n",
        "NoPEDs = AL_NLbatting98_2008[~AL_NLbatting98_2008['Name'].isin(PlayersPositive)]\n",
        "NoPEDs['tested'] = 'negative'\n",
        "NoPEDs.head(5)"
      ],
      "execution_count": 23,
      "outputs": [
        {
          "output_type": "execute_result",
          "data": {
            "text/html": [
              "<div>\n",
              "<style scoped>\n",
              "    .dataframe tbody tr th:only-of-type {\n",
              "        vertical-align: middle;\n",
              "    }\n",
              "\n",
              "    .dataframe tbody tr th {\n",
              "        vertical-align: top;\n",
              "    }\n",
              "\n",
              "    .dataframe thead th {\n",
              "        text-align: right;\n",
              "    }\n",
              "</style>\n",
              "<table border=\"1\" class=\"dataframe\">\n",
              "  <thead>\n",
              "    <tr style=\"text-align: right;\">\n",
              "      <th></th>\n",
              "      <th>Year</th>\n",
              "      <th>League</th>\n",
              "      <th>Name</th>\n",
              "      <th>Age</th>\n",
              "      <th>Team</th>\n",
              "      <th>G</th>\n",
              "      <th>PA</th>\n",
              "      <th>AB</th>\n",
              "      <th>R</th>\n",
              "      <th>H</th>\n",
              "      <th>2B</th>\n",
              "      <th>3B</th>\n",
              "      <th>HR</th>\n",
              "      <th>RBI</th>\n",
              "      <th>BB</th>\n",
              "      <th>SO</th>\n",
              "      <th>Hits/AB</th>\n",
              "      <th>OBP</th>\n",
              "      <th>SLG</th>\n",
              "      <th>OPS</th>\n",
              "      <th>TB</th>\n",
              "      <th>tested</th>\n",
              "    </tr>\n",
              "  </thead>\n",
              "  <tbody>\n",
              "    <tr>\n",
              "      <th>0</th>\n",
              "      <td>1998</td>\n",
              "      <td>AL</td>\n",
              "      <td>Jeff Abbott</td>\n",
              "      <td>25.0</td>\n",
              "      <td>CHW</td>\n",
              "      <td>89</td>\n",
              "      <td>261</td>\n",
              "      <td>244</td>\n",
              "      <td>33</td>\n",
              "      <td>68</td>\n",
              "      <td>14</td>\n",
              "      <td>1</td>\n",
              "      <td>12</td>\n",
              "      <td>41</td>\n",
              "      <td>9</td>\n",
              "      <td>28</td>\n",
              "      <td>0.279</td>\n",
              "      <td>0.298</td>\n",
              "      <td>0.492</td>\n",
              "      <td>0.790</td>\n",
              "      <td>120.0</td>\n",
              "      <td>negative</td>\n",
              "    </tr>\n",
              "    <tr>\n",
              "      <th>1</th>\n",
              "      <td>1998</td>\n",
              "      <td>AL</td>\n",
              "      <td>Kurt Abbott</td>\n",
              "      <td>29.0</td>\n",
              "      <td>OAK</td>\n",
              "      <td>35</td>\n",
              "      <td>136</td>\n",
              "      <td>123</td>\n",
              "      <td>17</td>\n",
              "      <td>33</td>\n",
              "      <td>7</td>\n",
              "      <td>1</td>\n",
              "      <td>2</td>\n",
              "      <td>9</td>\n",
              "      <td>10</td>\n",
              "      <td>34</td>\n",
              "      <td>0.268</td>\n",
              "      <td>0.326</td>\n",
              "      <td>0.390</td>\n",
              "      <td>0.716</td>\n",
              "      <td>48.0</td>\n",
              "      <td>negative</td>\n",
              "    </tr>\n",
              "    <tr>\n",
              "      <th>2</th>\n",
              "      <td>1998</td>\n",
              "      <td>AL</td>\n",
              "      <td>Rick Aguilera</td>\n",
              "      <td>36.0</td>\n",
              "      <td>MIN</td>\n",
              "      <td>5</td>\n",
              "      <td>0</td>\n",
              "      <td>0</td>\n",
              "      <td>0</td>\n",
              "      <td>0</td>\n",
              "      <td>0</td>\n",
              "      <td>0</td>\n",
              "      <td>0</td>\n",
              "      <td>0</td>\n",
              "      <td>0</td>\n",
              "      <td>0</td>\n",
              "      <td>NaN</td>\n",
              "      <td>NaN</td>\n",
              "      <td>NaN</td>\n",
              "      <td>NaN</td>\n",
              "      <td>0.0</td>\n",
              "      <td>negative</td>\n",
              "    </tr>\n",
              "    <tr>\n",
              "      <th>3</th>\n",
              "      <td>1998</td>\n",
              "      <td>AL</td>\n",
              "      <td>Scott Aldred</td>\n",
              "      <td>30.0</td>\n",
              "      <td>TBD</td>\n",
              "      <td>2</td>\n",
              "      <td>0</td>\n",
              "      <td>0</td>\n",
              "      <td>0</td>\n",
              "      <td>0</td>\n",
              "      <td>0</td>\n",
              "      <td>0</td>\n",
              "      <td>0</td>\n",
              "      <td>0</td>\n",
              "      <td>0</td>\n",
              "      <td>0</td>\n",
              "      <td>NaN</td>\n",
              "      <td>NaN</td>\n",
              "      <td>NaN</td>\n",
              "      <td>NaN</td>\n",
              "      <td>0.0</td>\n",
              "      <td>negative</td>\n",
              "    </tr>\n",
              "    <tr>\n",
              "      <th>4</th>\n",
              "      <td>1998</td>\n",
              "      <td>AL</td>\n",
              "      <td>Luis Alicea</td>\n",
              "      <td>32.0</td>\n",
              "      <td>TEX</td>\n",
              "      <td>101</td>\n",
              "      <td>308</td>\n",
              "      <td>259</td>\n",
              "      <td>51</td>\n",
              "      <td>71</td>\n",
              "      <td>15</td>\n",
              "      <td>3</td>\n",
              "      <td>6</td>\n",
              "      <td>33</td>\n",
              "      <td>37</td>\n",
              "      <td>40</td>\n",
              "      <td>0.274</td>\n",
              "      <td>0.372</td>\n",
              "      <td>0.425</td>\n",
              "      <td>0.796</td>\n",
              "      <td>110.0</td>\n",
              "      <td>negative</td>\n",
              "    </tr>\n",
              "  </tbody>\n",
              "</table>\n",
              "</div>"
            ],
            "text/plain": [
              "   Year League           Name   Age Team  ...    OBP    SLG    OPS     TB    tested\n",
              "0  1998     AL    Jeff Abbott  25.0  CHW  ...  0.298  0.492  0.790  120.0  negative\n",
              "1  1998     AL    Kurt Abbott  29.0  OAK  ...  0.326  0.390  0.716   48.0  negative\n",
              "2  1998     AL  Rick Aguilera  36.0  MIN  ...    NaN    NaN    NaN    0.0  negative\n",
              "3  1998     AL   Scott Aldred  30.0  TBD  ...    NaN    NaN    NaN    0.0  negative\n",
              "4  1998     AL    Luis Alicea  32.0  TEX  ...  0.372  0.425  0.796  110.0  negative\n",
              "\n",
              "[5 rows x 22 columns]"
            ]
          },
          "metadata": {
            "tags": []
          },
          "execution_count": 23
        }
      ]
    },
    {
      "cell_type": "code",
      "metadata": {
        "id": "Op0mDmMGHKym",
        "colab": {
          "base_uri": "https://localhost:8080/"
        },
        "outputId": "3af16778-38a7-4f7f-d410-5ea6881d521f"
      },
      "source": [
        "NoPEDs.info()"
      ],
      "execution_count": 24,
      "outputs": [
        {
          "output_type": "stream",
          "text": [
            "<class 'pandas.core.frame.DataFrame'>\n",
            "Int64Index: 12721 entries, 0 to 13486\n",
            "Data columns (total 22 columns):\n",
            " #   Column   Non-Null Count  Dtype  \n",
            "---  ------   --------------  -----  \n",
            " 0   Year     12721 non-null  int64  \n",
            " 1   League   12721 non-null  object \n",
            " 2   Name     12721 non-null  object \n",
            " 3   Age      12699 non-null  float64\n",
            " 4   Team     12699 non-null  object \n",
            " 5   G        12721 non-null  int64  \n",
            " 6   PA       12721 non-null  int64  \n",
            " 7   AB       12721 non-null  int64  \n",
            " 8   R        12721 non-null  int64  \n",
            " 9   H        12721 non-null  int64  \n",
            " 10  2B       12721 non-null  int64  \n",
            " 11  3B       12721 non-null  int64  \n",
            " 12  HR       12721 non-null  int64  \n",
            " 13  RBI      12721 non-null  int64  \n",
            " 14  BB       12721 non-null  int64  \n",
            " 15  SO       12721 non-null  int64  \n",
            " 16  Hits/AB  10518 non-null  float64\n",
            " 17  OBP      10563 non-null  float64\n",
            " 18  SLG      10518 non-null  float64\n",
            " 19  OPS      10518 non-null  float64\n",
            " 20  TB       12720 non-null  float64\n",
            " 21  tested   12721 non-null  object \n",
            "dtypes: float64(6), int64(12), object(4)\n",
            "memory usage: 2.2+ MB\n"
          ],
          "name": "stdout"
        }
      ]
    },
    {
      "cell_type": "code",
      "metadata": {
        "id": "ob6-1D5QHsnf",
        "colab": {
          "base_uri": "https://localhost:8080/"
        },
        "outputId": "2c903152-59a4-42a9-af36-9c095ad088b5"
      },
      "source": [
        "NoPEDs.shape"
      ],
      "execution_count": 25,
      "outputs": [
        {
          "output_type": "execute_result",
          "data": {
            "text/plain": [
              "(12721, 22)"
            ]
          },
          "metadata": {
            "tags": []
          },
          "execution_count": 25
        }
      ]
    },
    {
      "cell_type": "markdown",
      "metadata": {
        "id": "uG-JWXVGJDNo"
      },
      "source": [
        "This is the file with all the players who tested positive/were suspended & their batting totals for 1998-2008."
      ]
    },
    {
      "cell_type": "code",
      "metadata": {
        "id": "BD04ZQZVmYVe"
      },
      "source": [
        "#PositiveHRs = pd.read_csv(\"PositiveHRs98_2008.csv\")\n",
        "#PositiveHRs.head()"
      ],
      "execution_count": null,
      "outputs": []
    },
    {
      "cell_type": "code",
      "metadata": {
        "id": "8C8U0qcSmtNV"
      },
      "source": [
        "#PositiveHRs[[\"HR\"]].describe()"
      ],
      "execution_count": null,
      "outputs": []
    },
    {
      "cell_type": "code",
      "metadata": {
        "id": "FphUuje_ms_6"
      },
      "source": [
        "#PositiveHRs.info()"
      ],
      "execution_count": null,
      "outputs": []
    },
    {
      "cell_type": "markdown",
      "metadata": {
        "id": "91m9KYXOmwHd"
      },
      "source": [
        "What does the 98_2008 (all players) DF look like?"
      ]
    },
    {
      "cell_type": "code",
      "metadata": {
        "id": "dw0gyGDe5Y1M",
        "colab": {
          "base_uri": "https://localhost:8080/",
          "height": 204
        },
        "outputId": "ce7777cd-b4d4-4f68-c306-54e2cfff44f2"
      },
      "source": [
        "AL_NLbatting98_2008.head()"
      ],
      "execution_count": 26,
      "outputs": [
        {
          "output_type": "execute_result",
          "data": {
            "text/html": [
              "<div>\n",
              "<style scoped>\n",
              "    .dataframe tbody tr th:only-of-type {\n",
              "        vertical-align: middle;\n",
              "    }\n",
              "\n",
              "    .dataframe tbody tr th {\n",
              "        vertical-align: top;\n",
              "    }\n",
              "\n",
              "    .dataframe thead th {\n",
              "        text-align: right;\n",
              "    }\n",
              "</style>\n",
              "<table border=\"1\" class=\"dataframe\">\n",
              "  <thead>\n",
              "    <tr style=\"text-align: right;\">\n",
              "      <th></th>\n",
              "      <th>Year</th>\n",
              "      <th>League</th>\n",
              "      <th>Name</th>\n",
              "      <th>Age</th>\n",
              "      <th>Team</th>\n",
              "      <th>G</th>\n",
              "      <th>PA</th>\n",
              "      <th>AB</th>\n",
              "      <th>R</th>\n",
              "      <th>H</th>\n",
              "      <th>2B</th>\n",
              "      <th>3B</th>\n",
              "      <th>HR</th>\n",
              "      <th>RBI</th>\n",
              "      <th>BB</th>\n",
              "      <th>SO</th>\n",
              "      <th>Hits/AB</th>\n",
              "      <th>OBP</th>\n",
              "      <th>SLG</th>\n",
              "      <th>OPS</th>\n",
              "      <th>TB</th>\n",
              "    </tr>\n",
              "  </thead>\n",
              "  <tbody>\n",
              "    <tr>\n",
              "      <th>0</th>\n",
              "      <td>1998</td>\n",
              "      <td>AL</td>\n",
              "      <td>Jeff Abbott</td>\n",
              "      <td>25.0</td>\n",
              "      <td>CHW</td>\n",
              "      <td>89</td>\n",
              "      <td>261</td>\n",
              "      <td>244</td>\n",
              "      <td>33</td>\n",
              "      <td>68</td>\n",
              "      <td>14</td>\n",
              "      <td>1</td>\n",
              "      <td>12</td>\n",
              "      <td>41</td>\n",
              "      <td>9</td>\n",
              "      <td>28</td>\n",
              "      <td>0.279</td>\n",
              "      <td>0.298</td>\n",
              "      <td>0.492</td>\n",
              "      <td>0.790</td>\n",
              "      <td>120.0</td>\n",
              "    </tr>\n",
              "    <tr>\n",
              "      <th>1</th>\n",
              "      <td>1998</td>\n",
              "      <td>AL</td>\n",
              "      <td>Kurt Abbott</td>\n",
              "      <td>29.0</td>\n",
              "      <td>OAK</td>\n",
              "      <td>35</td>\n",
              "      <td>136</td>\n",
              "      <td>123</td>\n",
              "      <td>17</td>\n",
              "      <td>33</td>\n",
              "      <td>7</td>\n",
              "      <td>1</td>\n",
              "      <td>2</td>\n",
              "      <td>9</td>\n",
              "      <td>10</td>\n",
              "      <td>34</td>\n",
              "      <td>0.268</td>\n",
              "      <td>0.326</td>\n",
              "      <td>0.390</td>\n",
              "      <td>0.716</td>\n",
              "      <td>48.0</td>\n",
              "    </tr>\n",
              "    <tr>\n",
              "      <th>2</th>\n",
              "      <td>1998</td>\n",
              "      <td>AL</td>\n",
              "      <td>Rick Aguilera</td>\n",
              "      <td>36.0</td>\n",
              "      <td>MIN</td>\n",
              "      <td>5</td>\n",
              "      <td>0</td>\n",
              "      <td>0</td>\n",
              "      <td>0</td>\n",
              "      <td>0</td>\n",
              "      <td>0</td>\n",
              "      <td>0</td>\n",
              "      <td>0</td>\n",
              "      <td>0</td>\n",
              "      <td>0</td>\n",
              "      <td>0</td>\n",
              "      <td>NaN</td>\n",
              "      <td>NaN</td>\n",
              "      <td>NaN</td>\n",
              "      <td>NaN</td>\n",
              "      <td>0.0</td>\n",
              "    </tr>\n",
              "    <tr>\n",
              "      <th>3</th>\n",
              "      <td>1998</td>\n",
              "      <td>AL</td>\n",
              "      <td>Scott Aldred</td>\n",
              "      <td>30.0</td>\n",
              "      <td>TBD</td>\n",
              "      <td>2</td>\n",
              "      <td>0</td>\n",
              "      <td>0</td>\n",
              "      <td>0</td>\n",
              "      <td>0</td>\n",
              "      <td>0</td>\n",
              "      <td>0</td>\n",
              "      <td>0</td>\n",
              "      <td>0</td>\n",
              "      <td>0</td>\n",
              "      <td>0</td>\n",
              "      <td>NaN</td>\n",
              "      <td>NaN</td>\n",
              "      <td>NaN</td>\n",
              "      <td>NaN</td>\n",
              "      <td>0.0</td>\n",
              "    </tr>\n",
              "    <tr>\n",
              "      <th>4</th>\n",
              "      <td>1998</td>\n",
              "      <td>AL</td>\n",
              "      <td>Luis Alicea</td>\n",
              "      <td>32.0</td>\n",
              "      <td>TEX</td>\n",
              "      <td>101</td>\n",
              "      <td>308</td>\n",
              "      <td>259</td>\n",
              "      <td>51</td>\n",
              "      <td>71</td>\n",
              "      <td>15</td>\n",
              "      <td>3</td>\n",
              "      <td>6</td>\n",
              "      <td>33</td>\n",
              "      <td>37</td>\n",
              "      <td>40</td>\n",
              "      <td>0.274</td>\n",
              "      <td>0.372</td>\n",
              "      <td>0.425</td>\n",
              "      <td>0.796</td>\n",
              "      <td>110.0</td>\n",
              "    </tr>\n",
              "  </tbody>\n",
              "</table>\n",
              "</div>"
            ],
            "text/plain": [
              "   Year League           Name   Age Team  ...  Hits/AB    OBP    SLG    OPS     TB\n",
              "0  1998     AL    Jeff Abbott  25.0  CHW  ...    0.279  0.298  0.492  0.790  120.0\n",
              "1  1998     AL    Kurt Abbott  29.0  OAK  ...    0.268  0.326  0.390  0.716   48.0\n",
              "2  1998     AL  Rick Aguilera  36.0  MIN  ...      NaN    NaN    NaN    NaN    0.0\n",
              "3  1998     AL   Scott Aldred  30.0  TBD  ...      NaN    NaN    NaN    NaN    0.0\n",
              "4  1998     AL    Luis Alicea  32.0  TEX  ...    0.274  0.372  0.425  0.796  110.0\n",
              "\n",
              "[5 rows x 21 columns]"
            ]
          },
          "metadata": {
            "tags": []
          },
          "execution_count": 26
        }
      ]
    },
    {
      "cell_type": "code",
      "metadata": {
        "id": "QgS6g1zt6wNO",
        "colab": {
          "base_uri": "https://localhost:8080/",
          "height": 34
        },
        "outputId": "c0ff073d-4cb2-4fec-de76-516899a63a1a"
      },
      "source": [
        "AL_NLbatting98_2008.shape"
      ],
      "execution_count": null,
      "outputs": [
        {
          "output_type": "execute_result",
          "data": {
            "text/plain": [
              "(13487, 21)"
            ]
          },
          "metadata": {
            "tags": []
          },
          "execution_count": 20
        }
      ]
    },
    {
      "cell_type": "code",
      "metadata": {
        "id": "2dLth3yY7ROS",
        "colab": {
          "base_uri": "https://localhost:8080/",
          "height": 459
        },
        "outputId": "a0254ad7-fbf6-491f-becc-1661c81de48a"
      },
      "source": [
        "AL_NLbatting98_2008.info()"
      ],
      "execution_count": null,
      "outputs": [
        {
          "output_type": "stream",
          "text": [
            "<class 'pandas.core.frame.DataFrame'>\n",
            "RangeIndex: 13487 entries, 0 to 13486\n",
            "Data columns (total 21 columns):\n",
            "Year       13487 non-null int64\n",
            "League     13487 non-null object\n",
            "Name       13487 non-null object\n",
            "Age        13465 non-null float64\n",
            "Team       13465 non-null object\n",
            "G          13487 non-null int64\n",
            "PA         13487 non-null int64\n",
            "AB         13487 non-null int64\n",
            "R          13487 non-null int64\n",
            "H          13487 non-null int64\n",
            "2B         13487 non-null int64\n",
            "3B         13487 non-null int64\n",
            "HR         13487 non-null int64\n",
            "RBI        13487 non-null int64\n",
            "BB         13487 non-null int64\n",
            "SO         13487 non-null int64\n",
            "Hits/AB    11265 non-null float64\n",
            "OBP        11310 non-null float64\n",
            "SLG        11265 non-null float64\n",
            "OPS        11265 non-null float64\n",
            "TB         13486 non-null float64\n",
            "dtypes: float64(6), int64(12), object(3)\n",
            "memory usage: 2.2+ MB\n"
          ],
          "name": "stdout"
        }
      ]
    },
    {
      "cell_type": "code",
      "metadata": {
        "id": "hXSZSbts7Xer",
        "colab": {
          "base_uri": "https://localhost:8080/",
          "height": 391
        },
        "outputId": "fd5ecd44-7746-44dc-9bf0-d168a8cdcf49"
      },
      "source": [
        "AL_NLbatting98_2008.isnull().sum()"
      ],
      "execution_count": null,
      "outputs": [
        {
          "output_type": "execute_result",
          "data": {
            "text/plain": [
              "Year          0\n",
              "League        0\n",
              "Name          0\n",
              "Age          22\n",
              "Team         22\n",
              "G             0\n",
              "PA            0\n",
              "AB            0\n",
              "R             0\n",
              "H             0\n",
              "2B            0\n",
              "3B            0\n",
              "HR            0\n",
              "RBI           0\n",
              "BB            0\n",
              "SO            0\n",
              "Hits/AB    2222\n",
              "OBP        2177\n",
              "SLG        2222\n",
              "OPS        2222\n",
              "TB            1\n",
              "dtype: int64"
            ]
          },
          "metadata": {
            "tags": []
          },
          "execution_count": 22
        }
      ]
    },
    {
      "cell_type": "code",
      "metadata": {
        "id": "jaVWAy3_7ddL",
        "colab": {
          "base_uri": "https://localhost:8080/",
          "height": 34
        },
        "outputId": "589a8d2d-027d-4782-f9fd-263b5598a69a"
      },
      "source": [
        "AL_NLbatting98_2008.isnull().sum().sum()"
      ],
      "execution_count": null,
      "outputs": [
        {
          "output_type": "execute_result",
          "data": {
            "text/plain": [
              "8888"
            ]
          },
          "metadata": {
            "tags": []
          },
          "execution_count": 23
        }
      ]
    },
    {
      "cell_type": "markdown",
      "metadata": {
        "id": "95XQwNz_36O1"
      },
      "source": [
        "There are nulls b/c at the end of each year in both leagues, there's a row called \"League Avg\". I'm not going to delete any NULLs. \n"
      ]
    },
    {
      "cell_type": "markdown",
      "metadata": {
        "id": "cfiy9tL7PTxh"
      },
      "source": [
        "Let's see what the stats say for the HR column for the years 1998-2008, both leagues:"
      ]
    },
    {
      "cell_type": "code",
      "metadata": {
        "id": "jELzbawf7g_c",
        "colab": {
          "base_uri": "https://localhost:8080/",
          "height": 297
        },
        "outputId": "13577e66-7c0b-40b8-ebc1-84fc312e82e0"
      },
      "source": [
        "AL_NLbatting98_2008[['HR']].describe()"
      ],
      "execution_count": null,
      "outputs": [
        {
          "output_type": "execute_result",
          "data": {
            "text/html": [
              "<div>\n",
              "<style scoped>\n",
              "    .dataframe tbody tr th:only-of-type {\n",
              "        vertical-align: middle;\n",
              "    }\n",
              "\n",
              "    .dataframe tbody tr th {\n",
              "        vertical-align: top;\n",
              "    }\n",
              "\n",
              "    .dataframe thead th {\n",
              "        text-align: right;\n",
              "    }\n",
              "</style>\n",
              "<table border=\"1\" class=\"dataframe\">\n",
              "  <thead>\n",
              "    <tr style=\"text-align: right;\">\n",
              "      <th></th>\n",
              "      <th>HR</th>\n",
              "    </tr>\n",
              "  </thead>\n",
              "  <tbody>\n",
              "    <tr>\n",
              "      <th>count</th>\n",
              "      <td>13487.000000</td>\n",
              "    </tr>\n",
              "    <tr>\n",
              "      <th>mean</th>\n",
              "      <td>4.305405</td>\n",
              "    </tr>\n",
              "    <tr>\n",
              "      <th>std</th>\n",
              "      <td>8.299582</td>\n",
              "    </tr>\n",
              "    <tr>\n",
              "      <th>min</th>\n",
              "      <td>0.000000</td>\n",
              "    </tr>\n",
              "    <tr>\n",
              "      <th>25%</th>\n",
              "      <td>0.000000</td>\n",
              "    </tr>\n",
              "    <tr>\n",
              "      <th>50%</th>\n",
              "      <td>0.000000</td>\n",
              "    </tr>\n",
              "    <tr>\n",
              "      <th>75%</th>\n",
              "      <td>5.000000</td>\n",
              "    </tr>\n",
              "    <tr>\n",
              "      <th>max</th>\n",
              "      <td>73.000000</td>\n",
              "    </tr>\n",
              "  </tbody>\n",
              "</table>\n",
              "</div>"
            ],
            "text/plain": [
              "                 HR\n",
              "count  13487.000000\n",
              "mean       4.305405\n",
              "std        8.299582\n",
              "min        0.000000\n",
              "25%        0.000000\n",
              "50%        0.000000\n",
              "75%        5.000000\n",
              "max       73.000000"
            ]
          },
          "metadata": {
            "tags": []
          },
          "execution_count": 25
        }
      ]
    },
    {
      "cell_type": "markdown",
      "metadata": {
        "id": "0pg3qwIoNt-r"
      },
      "source": [
        "Let's isolate the NL (98-2008) for later to compare HRs to the AL."
      ]
    },
    {
      "cell_type": "code",
      "metadata": {
        "id": "8SPPY8Kn756Y",
        "colab": {
          "base_uri": "https://localhost:8080/",
          "height": 459
        },
        "outputId": "84a1f769-70b2-4aa3-fdef-48ab4ad92a98"
      },
      "source": [
        "NL_batting98_2008 = AL_NLbatting98_2008.iloc[(AL_NLbatting98_2008['League']== \"NL\").values]\n",
        "NL_batting98_2008.info()"
      ],
      "execution_count": null,
      "outputs": [
        {
          "output_type": "stream",
          "text": [
            "<class 'pandas.core.frame.DataFrame'>\n",
            "Int64Index: 7920 entries, 507 to 13486\n",
            "Data columns (total 21 columns):\n",
            "Year       7920 non-null int64\n",
            "League     7920 non-null object\n",
            "Name       7920 non-null object\n",
            "Age        7909 non-null float64\n",
            "Team       7909 non-null object\n",
            "G          7920 non-null int64\n",
            "PA         7920 non-null int64\n",
            "AB         7920 non-null int64\n",
            "R          7920 non-null int64\n",
            "H          7920 non-null int64\n",
            "2B         7920 non-null int64\n",
            "3B         7920 non-null int64\n",
            "HR         7920 non-null int64\n",
            "RBI        7920 non-null int64\n",
            "BB         7920 non-null int64\n",
            "SO         7920 non-null int64\n",
            "Hits/AB    6739 non-null float64\n",
            "OBP        6769 non-null float64\n",
            "SLG        6739 non-null float64\n",
            "OPS        6739 non-null float64\n",
            "TB         7919 non-null float64\n",
            "dtypes: float64(6), int64(12), object(3)\n",
            "memory usage: 1.3+ MB\n"
          ],
          "name": "stdout"
        }
      ]
    },
    {
      "cell_type": "markdown",
      "metadata": {
        "id": "tgcdp986OhzZ"
      },
      "source": [
        "Isolate the AL for HR's 1998-2008"
      ]
    },
    {
      "cell_type": "code",
      "metadata": {
        "id": "8W-NUVQg9BfQ",
        "colab": {
          "base_uri": "https://localhost:8080/",
          "height": 459
        },
        "outputId": "bef91a92-a528-4c4b-fcea-2624aad67b9c"
      },
      "source": [
        "AL_batting98_2008 = AL_NLbatting98_2008.iloc[(AL_NLbatting98_2008['League']== \"AL\").values]\n",
        "AL_batting98_2008.info()"
      ],
      "execution_count": null,
      "outputs": [
        {
          "output_type": "stream",
          "text": [
            "<class 'pandas.core.frame.DataFrame'>\n",
            "Int64Index: 5567 entries, 0 to 12741\n",
            "Data columns (total 21 columns):\n",
            "Year       5567 non-null int64\n",
            "League     5567 non-null object\n",
            "Name       5567 non-null object\n",
            "Age        5556 non-null float64\n",
            "Team       5556 non-null object\n",
            "G          5567 non-null int64\n",
            "PA         5567 non-null int64\n",
            "AB         5567 non-null int64\n",
            "R          5567 non-null int64\n",
            "H          5567 non-null int64\n",
            "2B         5567 non-null int64\n",
            "3B         5567 non-null int64\n",
            "HR         5567 non-null int64\n",
            "RBI        5567 non-null int64\n",
            "BB         5567 non-null int64\n",
            "SO         5567 non-null int64\n",
            "Hits/AB    4526 non-null float64\n",
            "OBP        4541 non-null float64\n",
            "SLG        4526 non-null float64\n",
            "OPS        4526 non-null float64\n",
            "TB         5567 non-null float64\n",
            "dtypes: float64(6), int64(12), object(3)\n",
            "memory usage: 956.8+ KB\n"
          ],
          "name": "stdout"
        }
      ]
    },
    {
      "cell_type": "markdown",
      "metadata": {
        "id": "8D5U0UTnkT_h"
      },
      "source": [
        "In the AL_NLbatting98_2008 DF there are rows that are labeled \"League Avg/600 PA\". What are the League Avg per 600 Plate Appearances (PA)/Year? Why is it per 600? Because 550 is the average number of At Bats (AB). Plate appearances (PA) includes walks and hit by pitch (HBP). For a player to be considered for a batting title the number of PA has to be 502.\n",
        "There is a row for every year in the 98-2008 DF that lists the League Avg. This just gives us an idea of what the Leagues averages were for various baseball stats. Again, it's an average already, so, for testing purposed later on, it's not super helpful. It just gives us an idea of where players were at with reagrds to hitting."
      ]
    },
    {
      "cell_type": "code",
      "metadata": {
        "id": "utuO-JSv9Sq1",
        "colab": {
          "base_uri": "https://localhost:8080/",
          "height": 731
        },
        "outputId": "0fbaefbb-0605-4af1-ed03-a5f6152fd7f8"
      },
      "source": [
        "#AL_NL_batting98 = AL_NLbatting98_2008.iloc[(AL_NLbatting98_2008['Year']== 1998).values]\n",
        "#AL_NL_batting98.info()\n",
        "\n",
        "league_avg98_2008 = AL_NLbatting98_2008.iloc[(AL_NLbatting98_2008['Name']== 'LgAvg per 600 PA').values]\n",
        "league_avg98_2008.head(23)"
      ],
      "execution_count": null,
      "outputs": [
        {
          "output_type": "execute_result",
          "data": {
            "text/html": [
              "<div>\n",
              "<style scoped>\n",
              "    .dataframe tbody tr th:only-of-type {\n",
              "        vertical-align: middle;\n",
              "    }\n",
              "\n",
              "    .dataframe tbody tr th {\n",
              "        vertical-align: top;\n",
              "    }\n",
              "\n",
              "    .dataframe thead th {\n",
              "        text-align: right;\n",
              "    }\n",
              "</style>\n",
              "<table border=\"1\" class=\"dataframe\">\n",
              "  <thead>\n",
              "    <tr style=\"text-align: right;\">\n",
              "      <th></th>\n",
              "      <th>Year</th>\n",
              "      <th>League</th>\n",
              "      <th>Name</th>\n",
              "      <th>Age</th>\n",
              "      <th>Team</th>\n",
              "      <th>G</th>\n",
              "      <th>PA</th>\n",
              "      <th>AB</th>\n",
              "      <th>R</th>\n",
              "      <th>H</th>\n",
              "      <th>2B</th>\n",
              "      <th>3B</th>\n",
              "      <th>HR</th>\n",
              "      <th>RBI</th>\n",
              "      <th>BB</th>\n",
              "      <th>SO</th>\n",
              "      <th>Hits/AB</th>\n",
              "      <th>OBP</th>\n",
              "      <th>SLG</th>\n",
              "      <th>OPS</th>\n",
              "      <th>TB</th>\n",
              "    </tr>\n",
              "  </thead>\n",
              "  <tbody>\n",
              "    <tr>\n",
              "      <th>506</th>\n",
              "      <td>1998</td>\n",
              "      <td>AL</td>\n",
              "      <td>LgAvg per 600 PA</td>\n",
              "      <td>NaN</td>\n",
              "      <td>NaN</td>\n",
              "      <td>165</td>\n",
              "      <td>600</td>\n",
              "      <td>534</td>\n",
              "      <td>77</td>\n",
              "      <td>144</td>\n",
              "      <td>29</td>\n",
              "      <td>3</td>\n",
              "      <td>17</td>\n",
              "      <td>73</td>\n",
              "      <td>53</td>\n",
              "      <td>98</td>\n",
              "      <td>0.270</td>\n",
              "      <td>0.339</td>\n",
              "      <td>0.429</td>\n",
              "      <td>0.768</td>\n",
              "      <td>229.0</td>\n",
              "    </tr>\n",
              "    <tr>\n",
              "      <th>1212</th>\n",
              "      <td>1998</td>\n",
              "      <td>NL</td>\n",
              "      <td>LgAvg per 600 PA</td>\n",
              "      <td>NaN</td>\n",
              "      <td>NaN</td>\n",
              "      <td>217</td>\n",
              "      <td>600</td>\n",
              "      <td>532</td>\n",
              "      <td>71</td>\n",
              "      <td>139</td>\n",
              "      <td>27</td>\n",
              "      <td>3</td>\n",
              "      <td>15</td>\n",
              "      <td>68</td>\n",
              "      <td>52</td>\n",
              "      <td>104</td>\n",
              "      <td>0.261</td>\n",
              "      <td>0.331</td>\n",
              "      <td>0.409</td>\n",
              "      <td>0.740</td>\n",
              "      <td>218.0</td>\n",
              "    </tr>\n",
              "    <tr>\n",
              "      <th>1716</th>\n",
              "      <td>1999</td>\n",
              "      <td>AL</td>\n",
              "      <td>LgAvg per 600 PA</td>\n",
              "      <td>NaN</td>\n",
              "      <td>NaN</td>\n",
              "      <td>163</td>\n",
              "      <td>600</td>\n",
              "      <td>530</td>\n",
              "      <td>80</td>\n",
              "      <td>146</td>\n",
              "      <td>28</td>\n",
              "      <td>3</td>\n",
              "      <td>18</td>\n",
              "      <td>75</td>\n",
              "      <td>56</td>\n",
              "      <td>95</td>\n",
              "      <td>0.275</td>\n",
              "      <td>0.347</td>\n",
              "      <td>0.439</td>\n",
              "      <td>0.786</td>\n",
              "      <td>233.0</td>\n",
              "    </tr>\n",
              "    <tr>\n",
              "      <th>2392</th>\n",
              "      <td>1999</td>\n",
              "      <td>NL</td>\n",
              "      <td>LgAvg per 600 PA</td>\n",
              "      <td>NaN</td>\n",
              "      <td>NaN</td>\n",
              "      <td>219</td>\n",
              "      <td>600</td>\n",
              "      <td>528</td>\n",
              "      <td>76</td>\n",
              "      <td>141</td>\n",
              "      <td>27</td>\n",
              "      <td>3</td>\n",
              "      <td>17</td>\n",
              "      <td>72</td>\n",
              "      <td>57</td>\n",
              "      <td>102</td>\n",
              "      <td>0.268</td>\n",
              "      <td>0.342</td>\n",
              "      <td>0.427</td>\n",
              "      <td>0.769</td>\n",
              "      <td>NaN</td>\n",
              "    </tr>\n",
              "    <tr>\n",
              "      <th>2907</th>\n",
              "      <td>2000</td>\n",
              "      <td>AL</td>\n",
              "      <td>LgAvg per 600 PA</td>\n",
              "      <td>NaN</td>\n",
              "      <td>NaN</td>\n",
              "      <td>164</td>\n",
              "      <td>600</td>\n",
              "      <td>529</td>\n",
              "      <td>81</td>\n",
              "      <td>146</td>\n",
              "      <td>29</td>\n",
              "      <td>3</td>\n",
              "      <td>18</td>\n",
              "      <td>77</td>\n",
              "      <td>58</td>\n",
              "      <td>95</td>\n",
              "      <td>0.276</td>\n",
              "      <td>0.349</td>\n",
              "      <td>0.443</td>\n",
              "      <td>0.792</td>\n",
              "      <td>235.0</td>\n",
              "    </tr>\n",
              "    <tr>\n",
              "      <th>3652</th>\n",
              "      <td>2000</td>\n",
              "      <td>NL</td>\n",
              "      <td>LgAvg per 600 PA</td>\n",
              "      <td>NaN</td>\n",
              "      <td>NaN</td>\n",
              "      <td>219</td>\n",
              "      <td>600</td>\n",
              "      <td>526</td>\n",
              "      <td>77</td>\n",
              "      <td>139</td>\n",
              "      <td>27</td>\n",
              "      <td>3</td>\n",
              "      <td>18</td>\n",
              "      <td>73</td>\n",
              "      <td>58</td>\n",
              "      <td>104</td>\n",
              "      <td>0.265</td>\n",
              "      <td>0.340</td>\n",
              "      <td>0.428</td>\n",
              "      <td>0.769</td>\n",
              "      <td>225.0</td>\n",
              "    </tr>\n",
              "    <tr>\n",
              "      <th>4161</th>\n",
              "      <td>2001</td>\n",
              "      <td>AL</td>\n",
              "      <td>LgAvg per 600 PA</td>\n",
              "      <td>NaN</td>\n",
              "      <td>NaN</td>\n",
              "      <td>164</td>\n",
              "      <td>600</td>\n",
              "      <td>536</td>\n",
              "      <td>75</td>\n",
              "      <td>143</td>\n",
              "      <td>29</td>\n",
              "      <td>3</td>\n",
              "      <td>17</td>\n",
              "      <td>72</td>\n",
              "      <td>50</td>\n",
              "      <td>100</td>\n",
              "      <td>0.266</td>\n",
              "      <td>0.333</td>\n",
              "      <td>0.428</td>\n",
              "      <td>0.761</td>\n",
              "      <td>229.0</td>\n",
              "    </tr>\n",
              "    <tr>\n",
              "      <th>4891</th>\n",
              "      <td>2001</td>\n",
              "      <td>NL</td>\n",
              "      <td>LgAvg per 600 PA</td>\n",
              "      <td>NaN</td>\n",
              "      <td>NaN</td>\n",
              "      <td>225</td>\n",
              "      <td>600</td>\n",
              "      <td>531</td>\n",
              "      <td>73</td>\n",
              "      <td>138</td>\n",
              "      <td>28</td>\n",
              "      <td>3</td>\n",
              "      <td>18</td>\n",
              "      <td>70</td>\n",
              "      <td>52</td>\n",
              "      <td>109</td>\n",
              "      <td>0.260</td>\n",
              "      <td>0.331</td>\n",
              "      <td>0.424</td>\n",
              "      <td>0.754</td>\n",
              "      <td>225.0</td>\n",
              "    </tr>\n",
              "    <tr>\n",
              "      <th>5382</th>\n",
              "      <td>2002</td>\n",
              "      <td>AL</td>\n",
              "      <td>LgAvg per 600 PA</td>\n",
              "      <td>NaN</td>\n",
              "      <td>NaN</td>\n",
              "      <td>163</td>\n",
              "      <td>600</td>\n",
              "      <td>535</td>\n",
              "      <td>75</td>\n",
              "      <td>141</td>\n",
              "      <td>29</td>\n",
              "      <td>3</td>\n",
              "      <td>17</td>\n",
              "      <td>71</td>\n",
              "      <td>51</td>\n",
              "      <td>98</td>\n",
              "      <td>0.263</td>\n",
              "      <td>0.331</td>\n",
              "      <td>0.424</td>\n",
              "      <td>0.755</td>\n",
              "      <td>227.0</td>\n",
              "    </tr>\n",
              "    <tr>\n",
              "      <th>6074</th>\n",
              "      <td>2002</td>\n",
              "      <td>NL</td>\n",
              "      <td>LgAvg per 600 PA</td>\n",
              "      <td>NaN</td>\n",
              "      <td>NaN</td>\n",
              "      <td>225</td>\n",
              "      <td>600</td>\n",
              "      <td>530</td>\n",
              "      <td>69</td>\n",
              "      <td>137</td>\n",
              "      <td>27</td>\n",
              "      <td>3</td>\n",
              "      <td>16</td>\n",
              "      <td>66</td>\n",
              "      <td>53</td>\n",
              "      <td>103</td>\n",
              "      <td>0.259</td>\n",
              "      <td>0.331</td>\n",
              "      <td>0.410</td>\n",
              "      <td>0.741</td>\n",
              "      <td>217.0</td>\n",
              "    </tr>\n",
              "    <tr>\n",
              "      <th>6582</th>\n",
              "      <td>2003</td>\n",
              "      <td>AL</td>\n",
              "      <td>LgAvg per 600 PA</td>\n",
              "      <td>NaN</td>\n",
              "      <td>NaN</td>\n",
              "      <td>164</td>\n",
              "      <td>600</td>\n",
              "      <td>536</td>\n",
              "      <td>75</td>\n",
              "      <td>143</td>\n",
              "      <td>29</td>\n",
              "      <td>3</td>\n",
              "      <td>17</td>\n",
              "      <td>72</td>\n",
              "      <td>50</td>\n",
              "      <td>95</td>\n",
              "      <td>0.267</td>\n",
              "      <td>0.334</td>\n",
              "      <td>0.428</td>\n",
              "      <td>0.761</td>\n",
              "      <td>229.0</td>\n",
              "    </tr>\n",
              "    <tr>\n",
              "      <th>7295</th>\n",
              "      <td>2003</td>\n",
              "      <td>NL</td>\n",
              "      <td>LgAvg per 600 PA</td>\n",
              "      <td>NaN</td>\n",
              "      <td>NaN</td>\n",
              "      <td>221</td>\n",
              "      <td>600</td>\n",
              "      <td>532</td>\n",
              "      <td>72</td>\n",
              "      <td>139</td>\n",
              "      <td>28</td>\n",
              "      <td>3</td>\n",
              "      <td>16</td>\n",
              "      <td>68</td>\n",
              "      <td>52</td>\n",
              "      <td>102</td>\n",
              "      <td>0.261</td>\n",
              "      <td>0.332</td>\n",
              "      <td>0.417</td>\n",
              "      <td>0.748</td>\n",
              "      <td>222.0</td>\n",
              "    </tr>\n",
              "    <tr>\n",
              "      <th>7808</th>\n",
              "      <td>2004</td>\n",
              "      <td>AL</td>\n",
              "      <td>LgAvg per 600 PA</td>\n",
              "      <td>NaN</td>\n",
              "      <td>NaN</td>\n",
              "      <td>163</td>\n",
              "      <td>600</td>\n",
              "      <td>535</td>\n",
              "      <td>77</td>\n",
              "      <td>144</td>\n",
              "      <td>29</td>\n",
              "      <td>3</td>\n",
              "      <td>18</td>\n",
              "      <td>73</td>\n",
              "      <td>51</td>\n",
              "      <td>99</td>\n",
              "      <td>0.269</td>\n",
              "      <td>0.337</td>\n",
              "      <td>0.432</td>\n",
              "      <td>0.769</td>\n",
              "      <td>231.0</td>\n",
              "    </tr>\n",
              "    <tr>\n",
              "      <th>8511</th>\n",
              "      <td>2004</td>\n",
              "      <td>NL</td>\n",
              "      <td>LgAvg per 600 PA</td>\n",
              "      <td>NaN</td>\n",
              "      <td>NaN</td>\n",
              "      <td>222</td>\n",
              "      <td>600</td>\n",
              "      <td>531</td>\n",
              "      <td>72</td>\n",
              "      <td>139</td>\n",
              "      <td>28</td>\n",
              "      <td>3</td>\n",
              "      <td>17</td>\n",
              "      <td>68</td>\n",
              "      <td>52</td>\n",
              "      <td>104</td>\n",
              "      <td>0.262</td>\n",
              "      <td>0.332</td>\n",
              "      <td>0.422</td>\n",
              "      <td>0.754</td>\n",
              "      <td>224.0</td>\n",
              "    </tr>\n",
              "    <tr>\n",
              "      <th>9009</th>\n",
              "      <td>2005</td>\n",
              "      <td>AL</td>\n",
              "      <td>LgAvg per 600 PA</td>\n",
              "      <td>NaN</td>\n",
              "      <td>NaN</td>\n",
              "      <td>164</td>\n",
              "      <td>600</td>\n",
              "      <td>540</td>\n",
              "      <td>74</td>\n",
              "      <td>144</td>\n",
              "      <td>28</td>\n",
              "      <td>3</td>\n",
              "      <td>17</td>\n",
              "      <td>71</td>\n",
              "      <td>47</td>\n",
              "      <td>95</td>\n",
              "      <td>0.267</td>\n",
              "      <td>0.329</td>\n",
              "      <td>0.423</td>\n",
              "      <td>0.752</td>\n",
              "      <td>228.0</td>\n",
              "    </tr>\n",
              "    <tr>\n",
              "      <th>9726</th>\n",
              "      <td>2005</td>\n",
              "      <td>NL</td>\n",
              "      <td>LgAvg per 600 PA</td>\n",
              "      <td>NaN</td>\n",
              "      <td>NaN</td>\n",
              "      <td>223</td>\n",
              "      <td>600</td>\n",
              "      <td>532</td>\n",
              "      <td>69</td>\n",
              "      <td>139</td>\n",
              "      <td>29</td>\n",
              "      <td>3</td>\n",
              "      <td>16</td>\n",
              "      <td>66</td>\n",
              "      <td>51</td>\n",
              "      <td>103</td>\n",
              "      <td>0.261</td>\n",
              "      <td>0.330</td>\n",
              "      <td>0.413</td>\n",
              "      <td>0.743</td>\n",
              "      <td>220.0</td>\n",
              "    </tr>\n",
              "    <tr>\n",
              "      <th>10229</th>\n",
              "      <td>2006</td>\n",
              "      <td>AL</td>\n",
              "      <td>LgAvg per 600 PA</td>\n",
              "      <td>NaN</td>\n",
              "      <td>NaN</td>\n",
              "      <td>164</td>\n",
              "      <td>600</td>\n",
              "      <td>537</td>\n",
              "      <td>77</td>\n",
              "      <td>147</td>\n",
              "      <td>29</td>\n",
              "      <td>3</td>\n",
              "      <td>17</td>\n",
              "      <td>73</td>\n",
              "      <td>50</td>\n",
              "      <td>98</td>\n",
              "      <td>0.274</td>\n",
              "      <td>0.339</td>\n",
              "      <td>0.435</td>\n",
              "      <td>0.774</td>\n",
              "      <td>234.0</td>\n",
              "    </tr>\n",
              "    <tr>\n",
              "      <th>10970</th>\n",
              "      <td>2006</td>\n",
              "      <td>NL</td>\n",
              "      <td>LgAvg per 600 PA</td>\n",
              "      <td>NaN</td>\n",
              "      <td>NaN</td>\n",
              "      <td>223</td>\n",
              "      <td>600</td>\n",
              "      <td>531</td>\n",
              "      <td>73</td>\n",
              "      <td>140</td>\n",
              "      <td>29</td>\n",
              "      <td>3</td>\n",
              "      <td>17</td>\n",
              "      <td>70</td>\n",
              "      <td>51</td>\n",
              "      <td>104</td>\n",
              "      <td>0.264</td>\n",
              "      <td>0.333</td>\n",
              "      <td>0.426</td>\n",
              "      <td>0.759</td>\n",
              "      <td>226.0</td>\n",
              "    </tr>\n",
              "    <tr>\n",
              "      <th>11476</th>\n",
              "      <td>2007</td>\n",
              "      <td>AL</td>\n",
              "      <td>LgAvg per 600 PA</td>\n",
              "      <td>NaN</td>\n",
              "      <td>NaN</td>\n",
              "      <td>164</td>\n",
              "      <td>600</td>\n",
              "      <td>535</td>\n",
              "      <td>76</td>\n",
              "      <td>145</td>\n",
              "      <td>29</td>\n",
              "      <td>3</td>\n",
              "      <td>15</td>\n",
              "      <td>72</td>\n",
              "      <td>51</td>\n",
              "      <td>101</td>\n",
              "      <td>0.270</td>\n",
              "      <td>0.337</td>\n",
              "      <td>0.422</td>\n",
              "      <td>0.759</td>\n",
              "      <td>226.0</td>\n",
              "    </tr>\n",
              "    <tr>\n",
              "      <th>12228</th>\n",
              "      <td>2007</td>\n",
              "      <td>NL</td>\n",
              "      <td>LgAvg per 600 PA</td>\n",
              "      <td>NaN</td>\n",
              "      <td>NaN</td>\n",
              "      <td>228</td>\n",
              "      <td>600</td>\n",
              "      <td>533</td>\n",
              "      <td>72</td>\n",
              "      <td>141</td>\n",
              "      <td>29</td>\n",
              "      <td>3</td>\n",
              "      <td>16</td>\n",
              "      <td>69</td>\n",
              "      <td>51</td>\n",
              "      <td>104</td>\n",
              "      <td>0.265</td>\n",
              "      <td>0.333</td>\n",
              "      <td>0.420</td>\n",
              "      <td>0.753</td>\n",
              "      <td>224.0</td>\n",
              "    </tr>\n",
              "    <tr>\n",
              "      <th>12741</th>\n",
              "      <td>2008</td>\n",
              "      <td>AL</td>\n",
              "      <td>LgAvg per 600 PA</td>\n",
              "      <td>NaN</td>\n",
              "      <td>NaN</td>\n",
              "      <td>164</td>\n",
              "      <td>600</td>\n",
              "      <td>535</td>\n",
              "      <td>74</td>\n",
              "      <td>143</td>\n",
              "      <td>29</td>\n",
              "      <td>3</td>\n",
              "      <td>16</td>\n",
              "      <td>71</td>\n",
              "      <td>52</td>\n",
              "      <td>102</td>\n",
              "      <td>0.267</td>\n",
              "      <td>0.335</td>\n",
              "      <td>0.419</td>\n",
              "      <td>0.755</td>\n",
              "      <td>224.0</td>\n",
              "    </tr>\n",
              "    <tr>\n",
              "      <th>13486</th>\n",
              "      <td>2008</td>\n",
              "      <td>NL</td>\n",
              "      <td>LgAvg per 600 PA</td>\n",
              "      <td>NaN</td>\n",
              "      <td>NaN</td>\n",
              "      <td>224</td>\n",
              "      <td>600</td>\n",
              "      <td>531</td>\n",
              "      <td>70</td>\n",
              "      <td>138</td>\n",
              "      <td>28</td>\n",
              "      <td>3</td>\n",
              "      <td>16</td>\n",
              "      <td>67</td>\n",
              "      <td>53</td>\n",
              "      <td>109</td>\n",
              "      <td>0.260</td>\n",
              "      <td>0.331</td>\n",
              "      <td>0.412</td>\n",
              "      <td>0.742</td>\n",
              "      <td>219.0</td>\n",
              "    </tr>\n",
              "  </tbody>\n",
              "</table>\n",
              "</div>"
            ],
            "text/plain": [
              "       Year League              Name  Age  ...    OBP    SLG    OPS     TB\n",
              "506    1998     AL  LgAvg per 600 PA  NaN  ...  0.339  0.429  0.768  229.0\n",
              "1212   1998     NL  LgAvg per 600 PA  NaN  ...  0.331  0.409  0.740  218.0\n",
              "1716   1999     AL  LgAvg per 600 PA  NaN  ...  0.347  0.439  0.786  233.0\n",
              "2392   1999     NL  LgAvg per 600 PA  NaN  ...  0.342  0.427  0.769    NaN\n",
              "2907   2000     AL  LgAvg per 600 PA  NaN  ...  0.349  0.443  0.792  235.0\n",
              "3652   2000     NL  LgAvg per 600 PA  NaN  ...  0.340  0.428  0.769  225.0\n",
              "4161   2001     AL  LgAvg per 600 PA  NaN  ...  0.333  0.428  0.761  229.0\n",
              "4891   2001     NL  LgAvg per 600 PA  NaN  ...  0.331  0.424  0.754  225.0\n",
              "5382   2002     AL  LgAvg per 600 PA  NaN  ...  0.331  0.424  0.755  227.0\n",
              "6074   2002     NL  LgAvg per 600 PA  NaN  ...  0.331  0.410  0.741  217.0\n",
              "6582   2003     AL  LgAvg per 600 PA  NaN  ...  0.334  0.428  0.761  229.0\n",
              "7295   2003     NL  LgAvg per 600 PA  NaN  ...  0.332  0.417  0.748  222.0\n",
              "7808   2004     AL  LgAvg per 600 PA  NaN  ...  0.337  0.432  0.769  231.0\n",
              "8511   2004     NL  LgAvg per 600 PA  NaN  ...  0.332  0.422  0.754  224.0\n",
              "9009   2005     AL  LgAvg per 600 PA  NaN  ...  0.329  0.423  0.752  228.0\n",
              "9726   2005     NL  LgAvg per 600 PA  NaN  ...  0.330  0.413  0.743  220.0\n",
              "10229  2006     AL  LgAvg per 600 PA  NaN  ...  0.339  0.435  0.774  234.0\n",
              "10970  2006     NL  LgAvg per 600 PA  NaN  ...  0.333  0.426  0.759  226.0\n",
              "11476  2007     AL  LgAvg per 600 PA  NaN  ...  0.337  0.422  0.759  226.0\n",
              "12228  2007     NL  LgAvg per 600 PA  NaN  ...  0.333  0.420  0.753  224.0\n",
              "12741  2008     AL  LgAvg per 600 PA  NaN  ...  0.335  0.419  0.755  224.0\n",
              "13486  2008     NL  LgAvg per 600 PA  NaN  ...  0.331  0.412  0.742  219.0\n",
              "\n",
              "[22 rows x 21 columns]"
            ]
          },
          "metadata": {
            "tags": []
          },
          "execution_count": 28
        }
      ]
    },
    {
      "cell_type": "markdown",
      "metadata": {
        "id": "OqQNJKBaQALC"
      },
      "source": [
        "What's the league average for HRs for every year during 1998-2008?"
      ]
    },
    {
      "cell_type": "code",
      "metadata": {
        "id": "yv3g9iS_NCc2",
        "colab": {
          "base_uri": "https://localhost:8080/",
          "height": 297
        },
        "outputId": "839b0b79-7434-484b-a967-fed9e6151936"
      },
      "source": [
        "league_avg98_2008[['HR']].describe()"
      ],
      "execution_count": null,
      "outputs": [
        {
          "output_type": "execute_result",
          "data": {
            "text/html": [
              "<div>\n",
              "<style scoped>\n",
              "    .dataframe tbody tr th:only-of-type {\n",
              "        vertical-align: middle;\n",
              "    }\n",
              "\n",
              "    .dataframe tbody tr th {\n",
              "        vertical-align: top;\n",
              "    }\n",
              "\n",
              "    .dataframe thead th {\n",
              "        text-align: right;\n",
              "    }\n",
              "</style>\n",
              "<table border=\"1\" class=\"dataframe\">\n",
              "  <thead>\n",
              "    <tr style=\"text-align: right;\">\n",
              "      <th></th>\n",
              "      <th>HR</th>\n",
              "    </tr>\n",
              "  </thead>\n",
              "  <tbody>\n",
              "    <tr>\n",
              "      <th>count</th>\n",
              "      <td>22.000000</td>\n",
              "    </tr>\n",
              "    <tr>\n",
              "      <th>mean</th>\n",
              "      <td>16.772727</td>\n",
              "    </tr>\n",
              "    <tr>\n",
              "      <th>std</th>\n",
              "      <td>0.922307</td>\n",
              "    </tr>\n",
              "    <tr>\n",
              "      <th>min</th>\n",
              "      <td>15.000000</td>\n",
              "    </tr>\n",
              "    <tr>\n",
              "      <th>25%</th>\n",
              "      <td>16.000000</td>\n",
              "    </tr>\n",
              "    <tr>\n",
              "      <th>50%</th>\n",
              "      <td>17.000000</td>\n",
              "    </tr>\n",
              "    <tr>\n",
              "      <th>75%</th>\n",
              "      <td>17.000000</td>\n",
              "    </tr>\n",
              "    <tr>\n",
              "      <th>max</th>\n",
              "      <td>18.000000</td>\n",
              "    </tr>\n",
              "  </tbody>\n",
              "</table>\n",
              "</div>"
            ],
            "text/plain": [
              "              HR\n",
              "count  22.000000\n",
              "mean   16.772727\n",
              "std     0.922307\n",
              "min    15.000000\n",
              "25%    16.000000\n",
              "50%    17.000000\n",
              "75%    17.000000\n",
              "max    18.000000"
            ]
          },
          "metadata": {
            "tags": []
          },
          "execution_count": 29
        }
      ]
    },
    {
      "cell_type": "markdown",
      "metadata": {
        "id": "cSiJKJlikwpy"
      },
      "source": [
        "Let's create DFs for each year 98-2008. Calculate the mean, median, mode, etc of the HR column for both leagues from 98-2008 so we can then do statistical testing between the years. Remember, this DF has every player's stats for all years."
      ]
    },
    {
      "cell_type": "code",
      "metadata": {
        "id": "RFCMXtbmN1jp",
        "colab": {
          "base_uri": "https://localhost:8080/",
          "height": 297
        },
        "outputId": "52de8545-4f30-4d46-8510-697b664d6a60"
      },
      "source": [
        "AL_NL_batting98 = AL_NLbatting98_2008.iloc[(AL_NLbatting98_2008['Year']== 1998).values]\n",
        "AL_NL_batting98[['HR']].describe()"
      ],
      "execution_count": null,
      "outputs": [
        {
          "output_type": "execute_result",
          "data": {
            "text/html": [
              "<div>\n",
              "<style scoped>\n",
              "    .dataframe tbody tr th:only-of-type {\n",
              "        vertical-align: middle;\n",
              "    }\n",
              "\n",
              "    .dataframe tbody tr th {\n",
              "        vertical-align: top;\n",
              "    }\n",
              "\n",
              "    .dataframe thead th {\n",
              "        text-align: right;\n",
              "    }\n",
              "</style>\n",
              "<table border=\"1\" class=\"dataframe\">\n",
              "  <thead>\n",
              "    <tr style=\"text-align: right;\">\n",
              "      <th></th>\n",
              "      <th>HR</th>\n",
              "    </tr>\n",
              "  </thead>\n",
              "  <tbody>\n",
              "    <tr>\n",
              "      <th>count</th>\n",
              "      <td>1213.000000</td>\n",
              "    </tr>\n",
              "    <tr>\n",
              "      <th>mean</th>\n",
              "      <td>4.201154</td>\n",
              "    </tr>\n",
              "    <tr>\n",
              "      <th>std</th>\n",
              "      <td>8.506982</td>\n",
              "    </tr>\n",
              "    <tr>\n",
              "      <th>min</th>\n",
              "      <td>0.000000</td>\n",
              "    </tr>\n",
              "    <tr>\n",
              "      <th>25%</th>\n",
              "      <td>0.000000</td>\n",
              "    </tr>\n",
              "    <tr>\n",
              "      <th>50%</th>\n",
              "      <td>0.000000</td>\n",
              "    </tr>\n",
              "    <tr>\n",
              "      <th>75%</th>\n",
              "      <td>4.000000</td>\n",
              "    </tr>\n",
              "    <tr>\n",
              "      <th>max</th>\n",
              "      <td>70.000000</td>\n",
              "    </tr>\n",
              "  </tbody>\n",
              "</table>\n",
              "</div>"
            ],
            "text/plain": [
              "                HR\n",
              "count  1213.000000\n",
              "mean      4.201154\n",
              "std       8.506982\n",
              "min       0.000000\n",
              "25%       0.000000\n",
              "50%       0.000000\n",
              "75%       4.000000\n",
              "max      70.000000"
            ]
          },
          "metadata": {
            "tags": []
          },
          "execution_count": 30
        }
      ]
    },
    {
      "cell_type": "code",
      "metadata": {
        "id": "PJa2w1lHZmLm",
        "colab": {
          "base_uri": "https://localhost:8080/",
          "height": 297
        },
        "outputId": "a60ba4cb-806b-4fc6-b616-22d3ae52d9e3"
      },
      "source": [
        "AL_NL_batting99 = AL_NLbatting98_2008.iloc[(AL_NLbatting98_2008['Year']== 1999).values]\n",
        "AL_NL_batting99[['HR']].describe()"
      ],
      "execution_count": null,
      "outputs": [
        {
          "output_type": "execute_result",
          "data": {
            "text/html": [
              "<div>\n",
              "<style scoped>\n",
              "    .dataframe tbody tr th:only-of-type {\n",
              "        vertical-align: middle;\n",
              "    }\n",
              "\n",
              "    .dataframe tbody tr th {\n",
              "        vertical-align: top;\n",
              "    }\n",
              "\n",
              "    .dataframe thead th {\n",
              "        text-align: right;\n",
              "    }\n",
              "</style>\n",
              "<table border=\"1\" class=\"dataframe\">\n",
              "  <thead>\n",
              "    <tr style=\"text-align: right;\">\n",
              "      <th></th>\n",
              "      <th>HR</th>\n",
              "    </tr>\n",
              "  </thead>\n",
              "  <tbody>\n",
              "    <tr>\n",
              "      <th>count</th>\n",
              "      <td>1180.000000</td>\n",
              "    </tr>\n",
              "    <tr>\n",
              "      <th>mean</th>\n",
              "      <td>4.714407</td>\n",
              "    </tr>\n",
              "    <tr>\n",
              "      <th>std</th>\n",
              "      <td>9.082543</td>\n",
              "    </tr>\n",
              "    <tr>\n",
              "      <th>min</th>\n",
              "      <td>0.000000</td>\n",
              "    </tr>\n",
              "    <tr>\n",
              "      <th>25%</th>\n",
              "      <td>0.000000</td>\n",
              "    </tr>\n",
              "    <tr>\n",
              "      <th>50%</th>\n",
              "      <td>0.000000</td>\n",
              "    </tr>\n",
              "    <tr>\n",
              "      <th>75%</th>\n",
              "      <td>5.000000</td>\n",
              "    </tr>\n",
              "    <tr>\n",
              "      <th>max</th>\n",
              "      <td>65.000000</td>\n",
              "    </tr>\n",
              "  </tbody>\n",
              "</table>\n",
              "</div>"
            ],
            "text/plain": [
              "                HR\n",
              "count  1180.000000\n",
              "mean      4.714407\n",
              "std       9.082543\n",
              "min       0.000000\n",
              "25%       0.000000\n",
              "50%       0.000000\n",
              "75%       5.000000\n",
              "max      65.000000"
            ]
          },
          "metadata": {
            "tags": []
          },
          "execution_count": 31
        }
      ]
    },
    {
      "cell_type": "code",
      "metadata": {
        "id": "7mehB0Ku9ogA",
        "colab": {
          "base_uri": "https://localhost:8080/",
          "height": 297
        },
        "outputId": "94aaf49a-94b8-41e0-814b-841d270b99dd"
      },
      "source": [
        "AL_NL_batting2000 = AL_NLbatting98_2008.iloc[(AL_NLbatting98_2008['Year']== 2000).values]\n",
        "AL_NL_batting2000[['HR']].describe()"
      ],
      "execution_count": null,
      "outputs": [
        {
          "output_type": "execute_result",
          "data": {
            "text/html": [
              "<div>\n",
              "<style scoped>\n",
              "    .dataframe tbody tr th:only-of-type {\n",
              "        vertical-align: middle;\n",
              "    }\n",
              "\n",
              "    .dataframe tbody tr th {\n",
              "        vertical-align: top;\n",
              "    }\n",
              "\n",
              "    .dataframe thead th {\n",
              "        text-align: right;\n",
              "    }\n",
              "</style>\n",
              "<table border=\"1\" class=\"dataframe\">\n",
              "  <thead>\n",
              "    <tr style=\"text-align: right;\">\n",
              "      <th></th>\n",
              "      <th>HR</th>\n",
              "    </tr>\n",
              "  </thead>\n",
              "  <tbody>\n",
              "    <tr>\n",
              "      <th>count</th>\n",
              "      <td>1260.000000</td>\n",
              "    </tr>\n",
              "    <tr>\n",
              "      <th>mean</th>\n",
              "      <td>4.546825</td>\n",
              "    </tr>\n",
              "    <tr>\n",
              "      <th>std</th>\n",
              "      <td>8.681288</td>\n",
              "    </tr>\n",
              "    <tr>\n",
              "      <th>min</th>\n",
              "      <td>0.000000</td>\n",
              "    </tr>\n",
              "    <tr>\n",
              "      <th>25%</th>\n",
              "      <td>0.000000</td>\n",
              "    </tr>\n",
              "    <tr>\n",
              "      <th>50%</th>\n",
              "      <td>0.000000</td>\n",
              "    </tr>\n",
              "    <tr>\n",
              "      <th>75%</th>\n",
              "      <td>5.000000</td>\n",
              "    </tr>\n",
              "    <tr>\n",
              "      <th>max</th>\n",
              "      <td>50.000000</td>\n",
              "    </tr>\n",
              "  </tbody>\n",
              "</table>\n",
              "</div>"
            ],
            "text/plain": [
              "                HR\n",
              "count  1260.000000\n",
              "mean      4.546825\n",
              "std       8.681288\n",
              "min       0.000000\n",
              "25%       0.000000\n",
              "50%       0.000000\n",
              "75%       5.000000\n",
              "max      50.000000"
            ]
          },
          "metadata": {
            "tags": []
          },
          "execution_count": 32
        }
      ]
    },
    {
      "cell_type": "code",
      "metadata": {
        "id": "1dOt7vHk9oQ8",
        "colab": {
          "base_uri": "https://localhost:8080/",
          "height": 297
        },
        "outputId": "d760e047-1517-4370-ec36-45302540d2c3"
      },
      "source": [
        "AL_NL_batting2001 = AL_NLbatting98_2008.iloc[(AL_NLbatting98_2008['Year']== 2001).values]\n",
        "AL_NL_batting2001[['HR']].describe()"
      ],
      "execution_count": null,
      "outputs": [
        {
          "output_type": "execute_result",
          "data": {
            "text/html": [
              "<div>\n",
              "<style scoped>\n",
              "    .dataframe tbody tr th:only-of-type {\n",
              "        vertical-align: middle;\n",
              "    }\n",
              "\n",
              "    .dataframe tbody tr th {\n",
              "        vertical-align: top;\n",
              "    }\n",
              "\n",
              "    .dataframe thead th {\n",
              "        text-align: right;\n",
              "    }\n",
              "</style>\n",
              "<table border=\"1\" class=\"dataframe\">\n",
              "  <thead>\n",
              "    <tr style=\"text-align: right;\">\n",
              "      <th></th>\n",
              "      <th>HR</th>\n",
              "    </tr>\n",
              "  </thead>\n",
              "  <tbody>\n",
              "    <tr>\n",
              "      <th>count</th>\n",
              "      <td>1239.000000</td>\n",
              "    </tr>\n",
              "    <tr>\n",
              "      <th>mean</th>\n",
              "      <td>4.433414</td>\n",
              "    </tr>\n",
              "    <tr>\n",
              "      <th>std</th>\n",
              "      <td>8.807594</td>\n",
              "    </tr>\n",
              "    <tr>\n",
              "      <th>min</th>\n",
              "      <td>0.000000</td>\n",
              "    </tr>\n",
              "    <tr>\n",
              "      <th>25%</th>\n",
              "      <td>0.000000</td>\n",
              "    </tr>\n",
              "    <tr>\n",
              "      <th>50%</th>\n",
              "      <td>0.000000</td>\n",
              "    </tr>\n",
              "    <tr>\n",
              "      <th>75%</th>\n",
              "      <td>5.000000</td>\n",
              "    </tr>\n",
              "    <tr>\n",
              "      <th>max</th>\n",
              "      <td>73.000000</td>\n",
              "    </tr>\n",
              "  </tbody>\n",
              "</table>\n",
              "</div>"
            ],
            "text/plain": [
              "                HR\n",
              "count  1239.000000\n",
              "mean      4.433414\n",
              "std       8.807594\n",
              "min       0.000000\n",
              "25%       0.000000\n",
              "50%       0.000000\n",
              "75%       5.000000\n",
              "max      73.000000"
            ]
          },
          "metadata": {
            "tags": []
          },
          "execution_count": 33
        }
      ]
    },
    {
      "cell_type": "code",
      "metadata": {
        "id": "BfxFGITw9n-Q",
        "colab": {
          "base_uri": "https://localhost:8080/",
          "height": 297
        },
        "outputId": "2df6d29b-97bc-4fe3-c443-9c31dce8534a"
      },
      "source": [
        "AL_NL_batting2002 = AL_NLbatting98_2008.iloc[(AL_NLbatting98_2008['Year']== 2002).values]\n",
        "AL_NL_batting2002[['HR']].describe()"
      ],
      "execution_count": null,
      "outputs": [
        {
          "output_type": "execute_result",
          "data": {
            "text/html": [
              "<div>\n",
              "<style scoped>\n",
              "    .dataframe tbody tr th:only-of-type {\n",
              "        vertical-align: middle;\n",
              "    }\n",
              "\n",
              "    .dataframe tbody tr th {\n",
              "        vertical-align: top;\n",
              "    }\n",
              "\n",
              "    .dataframe thead th {\n",
              "        text-align: right;\n",
              "    }\n",
              "</style>\n",
              "<table border=\"1\" class=\"dataframe\">\n",
              "  <thead>\n",
              "    <tr style=\"text-align: right;\">\n",
              "      <th></th>\n",
              "      <th>HR</th>\n",
              "    </tr>\n",
              "  </thead>\n",
              "  <tbody>\n",
              "    <tr>\n",
              "      <th>count</th>\n",
              "      <td>1183.000000</td>\n",
              "    </tr>\n",
              "    <tr>\n",
              "      <th>mean</th>\n",
              "      <td>4.304311</td>\n",
              "    </tr>\n",
              "    <tr>\n",
              "      <th>std</th>\n",
              "      <td>8.131868</td>\n",
              "    </tr>\n",
              "    <tr>\n",
              "      <th>min</th>\n",
              "      <td>0.000000</td>\n",
              "    </tr>\n",
              "    <tr>\n",
              "      <th>25%</th>\n",
              "      <td>0.000000</td>\n",
              "    </tr>\n",
              "    <tr>\n",
              "      <th>50%</th>\n",
              "      <td>0.000000</td>\n",
              "    </tr>\n",
              "    <tr>\n",
              "      <th>75%</th>\n",
              "      <td>5.000000</td>\n",
              "    </tr>\n",
              "    <tr>\n",
              "      <th>max</th>\n",
              "      <td>57.000000</td>\n",
              "    </tr>\n",
              "  </tbody>\n",
              "</table>\n",
              "</div>"
            ],
            "text/plain": [
              "                HR\n",
              "count  1183.000000\n",
              "mean      4.304311\n",
              "std       8.131868\n",
              "min       0.000000\n",
              "25%       0.000000\n",
              "50%       0.000000\n",
              "75%       5.000000\n",
              "max      57.000000"
            ]
          },
          "metadata": {
            "tags": []
          },
          "execution_count": 34
        }
      ]
    },
    {
      "cell_type": "code",
      "metadata": {
        "id": "9SvBukkK9nf0",
        "colab": {
          "base_uri": "https://localhost:8080/",
          "height": 297
        },
        "outputId": "b619e8ec-b7d0-4bc0-f48c-ecd83580374c"
      },
      "source": [
        "AL_NL_batting2003 = AL_NLbatting98_2008.iloc[(AL_NLbatting98_2008['Year']== 2003).values]\n",
        "AL_NL_batting2003[['HR']].describe()"
      ],
      "execution_count": null,
      "outputs": [
        {
          "output_type": "execute_result",
          "data": {
            "text/html": [
              "<div>\n",
              "<style scoped>\n",
              "    .dataframe tbody tr th:only-of-type {\n",
              "        vertical-align: middle;\n",
              "    }\n",
              "\n",
              "    .dataframe tbody tr th {\n",
              "        vertical-align: top;\n",
              "    }\n",
              "\n",
              "    .dataframe thead th {\n",
              "        text-align: right;\n",
              "    }\n",
              "</style>\n",
              "<table border=\"1\" class=\"dataframe\">\n",
              "  <thead>\n",
              "    <tr style=\"text-align: right;\">\n",
              "      <th></th>\n",
              "      <th>HR</th>\n",
              "    </tr>\n",
              "  </thead>\n",
              "  <tbody>\n",
              "    <tr>\n",
              "      <th>count</th>\n",
              "      <td>1221.000000</td>\n",
              "    </tr>\n",
              "    <tr>\n",
              "      <th>mean</th>\n",
              "      <td>4.291564</td>\n",
              "    </tr>\n",
              "    <tr>\n",
              "      <th>std</th>\n",
              "      <td>8.099899</td>\n",
              "    </tr>\n",
              "    <tr>\n",
              "      <th>min</th>\n",
              "      <td>0.000000</td>\n",
              "    </tr>\n",
              "    <tr>\n",
              "      <th>25%</th>\n",
              "      <td>0.000000</td>\n",
              "    </tr>\n",
              "    <tr>\n",
              "      <th>50%</th>\n",
              "      <td>0.000000</td>\n",
              "    </tr>\n",
              "    <tr>\n",
              "      <th>75%</th>\n",
              "      <td>5.000000</td>\n",
              "    </tr>\n",
              "    <tr>\n",
              "      <th>max</th>\n",
              "      <td>47.000000</td>\n",
              "    </tr>\n",
              "  </tbody>\n",
              "</table>\n",
              "</div>"
            ],
            "text/plain": [
              "                HR\n",
              "count  1221.000000\n",
              "mean      4.291564\n",
              "std       8.099899\n",
              "min       0.000000\n",
              "25%       0.000000\n",
              "50%       0.000000\n",
              "75%       5.000000\n",
              "max      47.000000"
            ]
          },
          "metadata": {
            "tags": []
          },
          "execution_count": 35
        }
      ]
    },
    {
      "cell_type": "code",
      "metadata": {
        "id": "9CeJ8PwT9nZC",
        "colab": {
          "base_uri": "https://localhost:8080/",
          "height": 297
        },
        "outputId": "aea1d8a9-da5e-4974-b501-84080d8c0415"
      },
      "source": [
        "AL_NL_batting2004 = AL_NLbatting98_2008.iloc[(AL_NLbatting98_2008['Year']== 2004).values]\n",
        "AL_NL_batting2004[['HR']].describe()"
      ],
      "execution_count": null,
      "outputs": [
        {
          "output_type": "execute_result",
          "data": {
            "text/html": [
              "<div>\n",
              "<style scoped>\n",
              "    .dataframe tbody tr th:only-of-type {\n",
              "        vertical-align: middle;\n",
              "    }\n",
              "\n",
              "    .dataframe tbody tr th {\n",
              "        vertical-align: top;\n",
              "    }\n",
              "\n",
              "    .dataframe thead th {\n",
              "        text-align: right;\n",
              "    }\n",
              "</style>\n",
              "<table border=\"1\" class=\"dataframe\">\n",
              "  <thead>\n",
              "    <tr style=\"text-align: right;\">\n",
              "      <th></th>\n",
              "      <th>HR</th>\n",
              "    </tr>\n",
              "  </thead>\n",
              "  <tbody>\n",
              "    <tr>\n",
              "      <th>count</th>\n",
              "      <td>1216.000000</td>\n",
              "    </tr>\n",
              "    <tr>\n",
              "      <th>mean</th>\n",
              "      <td>4.511513</td>\n",
              "    </tr>\n",
              "    <tr>\n",
              "      <th>std</th>\n",
              "      <td>8.379371</td>\n",
              "    </tr>\n",
              "    <tr>\n",
              "      <th>min</th>\n",
              "      <td>0.000000</td>\n",
              "    </tr>\n",
              "    <tr>\n",
              "      <th>25%</th>\n",
              "      <td>0.000000</td>\n",
              "    </tr>\n",
              "    <tr>\n",
              "      <th>50%</th>\n",
              "      <td>0.000000</td>\n",
              "    </tr>\n",
              "    <tr>\n",
              "      <th>75%</th>\n",
              "      <td>5.000000</td>\n",
              "    </tr>\n",
              "    <tr>\n",
              "      <th>max</th>\n",
              "      <td>48.000000</td>\n",
              "    </tr>\n",
              "  </tbody>\n",
              "</table>\n",
              "</div>"
            ],
            "text/plain": [
              "                HR\n",
              "count  1216.000000\n",
              "mean      4.511513\n",
              "std       8.379371\n",
              "min       0.000000\n",
              "25%       0.000000\n",
              "50%       0.000000\n",
              "75%       5.000000\n",
              "max      48.000000"
            ]
          },
          "metadata": {
            "tags": []
          },
          "execution_count": 36
        }
      ]
    },
    {
      "cell_type": "code",
      "metadata": {
        "id": "EN93WIey9nUL",
        "colab": {
          "base_uri": "https://localhost:8080/",
          "height": 297
        },
        "outputId": "bb87f3f1-eeb7-4511-cdb9-b5b01fa84e8e"
      },
      "source": [
        "AL_NL_batting2005 = AL_NLbatting98_2008.iloc[(AL_NLbatting98_2008['Year']== 2005).values]\n",
        "AL_NL_batting2005[['HR']].describe()"
      ],
      "execution_count": null,
      "outputs": [
        {
          "output_type": "execute_result",
          "data": {
            "text/html": [
              "<div>\n",
              "<style scoped>\n",
              "    .dataframe tbody tr th:only-of-type {\n",
              "        vertical-align: middle;\n",
              "    }\n",
              "\n",
              "    .dataframe tbody tr th {\n",
              "        vertical-align: top;\n",
              "    }\n",
              "\n",
              "    .dataframe thead th {\n",
              "        text-align: right;\n",
              "    }\n",
              "</style>\n",
              "<table border=\"1\" class=\"dataframe\">\n",
              "  <thead>\n",
              "    <tr style=\"text-align: right;\">\n",
              "      <th></th>\n",
              "      <th>HR</th>\n",
              "    </tr>\n",
              "  </thead>\n",
              "  <tbody>\n",
              "    <tr>\n",
              "      <th>count</th>\n",
              "      <td>1215.000000</td>\n",
              "    </tr>\n",
              "    <tr>\n",
              "      <th>mean</th>\n",
              "      <td>4.156379</td>\n",
              "    </tr>\n",
              "    <tr>\n",
              "      <th>std</th>\n",
              "      <td>7.936750</td>\n",
              "    </tr>\n",
              "    <tr>\n",
              "      <th>min</th>\n",
              "      <td>0.000000</td>\n",
              "    </tr>\n",
              "    <tr>\n",
              "      <th>25%</th>\n",
              "      <td>0.000000</td>\n",
              "    </tr>\n",
              "    <tr>\n",
              "      <th>50%</th>\n",
              "      <td>0.000000</td>\n",
              "    </tr>\n",
              "    <tr>\n",
              "      <th>75%</th>\n",
              "      <td>5.000000</td>\n",
              "    </tr>\n",
              "    <tr>\n",
              "      <th>max</th>\n",
              "      <td>51.000000</td>\n",
              "    </tr>\n",
              "  </tbody>\n",
              "</table>\n",
              "</div>"
            ],
            "text/plain": [
              "                HR\n",
              "count  1215.000000\n",
              "mean      4.156379\n",
              "std       7.936750\n",
              "min       0.000000\n",
              "25%       0.000000\n",
              "50%       0.000000\n",
              "75%       5.000000\n",
              "max      51.000000"
            ]
          },
          "metadata": {
            "tags": []
          },
          "execution_count": 37
        }
      ]
    },
    {
      "cell_type": "code",
      "metadata": {
        "id": "V5o_b4hF9nPZ",
        "colab": {
          "base_uri": "https://localhost:8080/",
          "height": 297
        },
        "outputId": "7273cb24-6a36-4861-fb5f-3135a9a43829"
      },
      "source": [
        "AL_NL_batting2006 = AL_NLbatting98_2008.iloc[(AL_NLbatting98_2008['Year']== 2006).values]\n",
        "AL_NL_batting2006[['HR']].describe()"
      ],
      "execution_count": null,
      "outputs": [
        {
          "output_type": "execute_result",
          "data": {
            "text/html": [
              "<div>\n",
              "<style scoped>\n",
              "    .dataframe tbody tr th:only-of-type {\n",
              "        vertical-align: middle;\n",
              "    }\n",
              "\n",
              "    .dataframe tbody tr th {\n",
              "        vertical-align: top;\n",
              "    }\n",
              "\n",
              "    .dataframe thead th {\n",
              "        text-align: right;\n",
              "    }\n",
              "</style>\n",
              "<table border=\"1\" class=\"dataframe\">\n",
              "  <thead>\n",
              "    <tr style=\"text-align: right;\">\n",
              "      <th></th>\n",
              "      <th>HR</th>\n",
              "    </tr>\n",
              "  </thead>\n",
              "  <tbody>\n",
              "    <tr>\n",
              "      <th>count</th>\n",
              "      <td>1244.000000</td>\n",
              "    </tr>\n",
              "    <tr>\n",
              "      <th>mean</th>\n",
              "      <td>4.356913</td>\n",
              "    </tr>\n",
              "    <tr>\n",
              "      <th>std</th>\n",
              "      <td>8.354935</td>\n",
              "    </tr>\n",
              "    <tr>\n",
              "      <th>min</th>\n",
              "      <td>0.000000</td>\n",
              "    </tr>\n",
              "    <tr>\n",
              "      <th>25%</th>\n",
              "      <td>0.000000</td>\n",
              "    </tr>\n",
              "    <tr>\n",
              "      <th>50%</th>\n",
              "      <td>0.000000</td>\n",
              "    </tr>\n",
              "    <tr>\n",
              "      <th>75%</th>\n",
              "      <td>5.000000</td>\n",
              "    </tr>\n",
              "    <tr>\n",
              "      <th>max</th>\n",
              "      <td>58.000000</td>\n",
              "    </tr>\n",
              "  </tbody>\n",
              "</table>\n",
              "</div>"
            ],
            "text/plain": [
              "                HR\n",
              "count  1244.000000\n",
              "mean      4.356913\n",
              "std       8.354935\n",
              "min       0.000000\n",
              "25%       0.000000\n",
              "50%       0.000000\n",
              "75%       5.000000\n",
              "max      58.000000"
            ]
          },
          "metadata": {
            "tags": []
          },
          "execution_count": 38
        }
      ]
    },
    {
      "cell_type": "code",
      "metadata": {
        "id": "LR0OGVpX9nKX",
        "colab": {
          "base_uri": "https://localhost:8080/",
          "height": 297
        },
        "outputId": "be1a9721-00ad-4b1b-c4f6-e08278e4cbe6"
      },
      "source": [
        "AL_NL_batting2007 = AL_NLbatting98_2008.iloc[(AL_NLbatting98_2008['Year']== 2007).values]\n",
        "AL_NL_batting2007[['HR']].describe()"
      ],
      "execution_count": null,
      "outputs": [
        {
          "output_type": "execute_result",
          "data": {
            "text/html": [
              "<div>\n",
              "<style scoped>\n",
              "    .dataframe tbody tr th:only-of-type {\n",
              "        vertical-align: middle;\n",
              "    }\n",
              "\n",
              "    .dataframe tbody tr th {\n",
              "        vertical-align: top;\n",
              "    }\n",
              "\n",
              "    .dataframe thead th {\n",
              "        text-align: right;\n",
              "    }\n",
              "</style>\n",
              "<table border=\"1\" class=\"dataframe\">\n",
              "  <thead>\n",
              "    <tr style=\"text-align: right;\">\n",
              "      <th></th>\n",
              "      <th>HR</th>\n",
              "    </tr>\n",
              "  </thead>\n",
              "  <tbody>\n",
              "    <tr>\n",
              "      <th>count</th>\n",
              "      <td>1258.000000</td>\n",
              "    </tr>\n",
              "    <tr>\n",
              "      <th>mean</th>\n",
              "      <td>3.965024</td>\n",
              "    </tr>\n",
              "    <tr>\n",
              "      <th>std</th>\n",
              "      <td>7.677492</td>\n",
              "    </tr>\n",
              "    <tr>\n",
              "      <th>min</th>\n",
              "      <td>0.000000</td>\n",
              "    </tr>\n",
              "    <tr>\n",
              "      <th>25%</th>\n",
              "      <td>0.000000</td>\n",
              "    </tr>\n",
              "    <tr>\n",
              "      <th>50%</th>\n",
              "      <td>0.000000</td>\n",
              "    </tr>\n",
              "    <tr>\n",
              "      <th>75%</th>\n",
              "      <td>4.000000</td>\n",
              "    </tr>\n",
              "    <tr>\n",
              "      <th>max</th>\n",
              "      <td>54.000000</td>\n",
              "    </tr>\n",
              "  </tbody>\n",
              "</table>\n",
              "</div>"
            ],
            "text/plain": [
              "                HR\n",
              "count  1258.000000\n",
              "mean      3.965024\n",
              "std       7.677492\n",
              "min       0.000000\n",
              "25%       0.000000\n",
              "50%       0.000000\n",
              "75%       4.000000\n",
              "max      54.000000"
            ]
          },
          "metadata": {
            "tags": []
          },
          "execution_count": 39
        }
      ]
    },
    {
      "cell_type": "code",
      "metadata": {
        "id": "gyEj9C2v-mcT",
        "colab": {
          "base_uri": "https://localhost:8080/",
          "height": 297
        },
        "outputId": "12227b9f-40b7-424a-8902-045b04ec63a8"
      },
      "source": [
        "AL_NL_batting2008 = AL_NLbatting98_2008.iloc[(AL_NLbatting98_2008['Year']== 2008).values]\n",
        "AL_NL_batting2008[['HR']].describe()"
      ],
      "execution_count": null,
      "outputs": [
        {
          "output_type": "execute_result",
          "data": {
            "text/html": [
              "<div>\n",
              "<style scoped>\n",
              "    .dataframe tbody tr th:only-of-type {\n",
              "        vertical-align: middle;\n",
              "    }\n",
              "\n",
              "    .dataframe tbody tr th {\n",
              "        vertical-align: top;\n",
              "    }\n",
              "\n",
              "    .dataframe thead th {\n",
              "        text-align: right;\n",
              "    }\n",
              "</style>\n",
              "<table border=\"1\" class=\"dataframe\">\n",
              "  <thead>\n",
              "    <tr style=\"text-align: right;\">\n",
              "      <th></th>\n",
              "      <th>HR</th>\n",
              "    </tr>\n",
              "  </thead>\n",
              "  <tbody>\n",
              "    <tr>\n",
              "      <th>count</th>\n",
              "      <td>1258.000000</td>\n",
              "    </tr>\n",
              "    <tr>\n",
              "      <th>mean</th>\n",
              "      <td>3.903021</td>\n",
              "    </tr>\n",
              "    <tr>\n",
              "      <th>std</th>\n",
              "      <td>7.541145</td>\n",
              "    </tr>\n",
              "    <tr>\n",
              "      <th>min</th>\n",
              "      <td>0.000000</td>\n",
              "    </tr>\n",
              "    <tr>\n",
              "      <th>25%</th>\n",
              "      <td>0.000000</td>\n",
              "    </tr>\n",
              "    <tr>\n",
              "      <th>50%</th>\n",
              "      <td>0.000000</td>\n",
              "    </tr>\n",
              "    <tr>\n",
              "      <th>75%</th>\n",
              "      <td>4.000000</td>\n",
              "    </tr>\n",
              "    <tr>\n",
              "      <th>max</th>\n",
              "      <td>48.000000</td>\n",
              "    </tr>\n",
              "  </tbody>\n",
              "</table>\n",
              "</div>"
            ],
            "text/plain": [
              "                HR\n",
              "count  1258.000000\n",
              "mean      3.903021\n",
              "std       7.541145\n",
              "min       0.000000\n",
              "25%       0.000000\n",
              "50%       0.000000\n",
              "75%       4.000000\n",
              "max      48.000000"
            ]
          },
          "metadata": {
            "tags": []
          },
          "execution_count": 40
        }
      ]
    },
    {
      "cell_type": "markdown",
      "metadata": {
        "id": "z76HokbP--K-"
      },
      "source": [
        "Again, (as above, for memory's sake) this is HRs 1998-2008, both leagues."
      ]
    },
    {
      "cell_type": "code",
      "metadata": {
        "id": "Olu3N-Oa-9pR",
        "colab": {
          "base_uri": "https://localhost:8080/",
          "height": 297
        },
        "outputId": "5721a862-9caf-414e-f17c-1247ee695166"
      },
      "source": [
        "AL_NLbatting98_2008[['HR']].describe()"
      ],
      "execution_count": null,
      "outputs": [
        {
          "output_type": "execute_result",
          "data": {
            "text/html": [
              "<div>\n",
              "<style scoped>\n",
              "    .dataframe tbody tr th:only-of-type {\n",
              "        vertical-align: middle;\n",
              "    }\n",
              "\n",
              "    .dataframe tbody tr th {\n",
              "        vertical-align: top;\n",
              "    }\n",
              "\n",
              "    .dataframe thead th {\n",
              "        text-align: right;\n",
              "    }\n",
              "</style>\n",
              "<table border=\"1\" class=\"dataframe\">\n",
              "  <thead>\n",
              "    <tr style=\"text-align: right;\">\n",
              "      <th></th>\n",
              "      <th>HR</th>\n",
              "    </tr>\n",
              "  </thead>\n",
              "  <tbody>\n",
              "    <tr>\n",
              "      <th>count</th>\n",
              "      <td>13487.000000</td>\n",
              "    </tr>\n",
              "    <tr>\n",
              "      <th>mean</th>\n",
              "      <td>4.305405</td>\n",
              "    </tr>\n",
              "    <tr>\n",
              "      <th>std</th>\n",
              "      <td>8.299582</td>\n",
              "    </tr>\n",
              "    <tr>\n",
              "      <th>min</th>\n",
              "      <td>0.000000</td>\n",
              "    </tr>\n",
              "    <tr>\n",
              "      <th>25%</th>\n",
              "      <td>0.000000</td>\n",
              "    </tr>\n",
              "    <tr>\n",
              "      <th>50%</th>\n",
              "      <td>0.000000</td>\n",
              "    </tr>\n",
              "    <tr>\n",
              "      <th>75%</th>\n",
              "      <td>5.000000</td>\n",
              "    </tr>\n",
              "    <tr>\n",
              "      <th>max</th>\n",
              "      <td>73.000000</td>\n",
              "    </tr>\n",
              "  </tbody>\n",
              "</table>\n",
              "</div>"
            ],
            "text/plain": [
              "                 HR\n",
              "count  13487.000000\n",
              "mean       4.305405\n",
              "std        8.299582\n",
              "min        0.000000\n",
              "25%        0.000000\n",
              "50%        0.000000\n",
              "75%        5.000000\n",
              "max       73.000000"
            ]
          },
          "metadata": {
            "tags": []
          },
          "execution_count": 42
        }
      ]
    },
    {
      "cell_type": "markdown",
      "metadata": {
        "id": "w0cArQKv-H2t"
      },
      "source": [
        "I also imported batting totals for the entire history of the MLB (at the top of this notebook, (AL_NL_BattingTotals.csv), however, The NL has been in existence longer (since 1876) than the AL (est. 1901), and the numbers of teams has not always been equal. This is the cumulative batting totals (below) for both leagues, all years from 1876-2019 with HR's isolated. Not very accurate b/c of the unequal number of teams in the early years and 2019 isn't complete yet. I just wanted to see what the stats breakdown of HRs was here. I don't think I'll use this for testing. I just wanted to see what the stats were."
      ]
    },
    {
      "cell_type": "code",
      "metadata": {
        "id": "toE4__pj8E0o",
        "colab": {
          "base_uri": "https://localhost:8080/",
          "height": 297
        },
        "outputId": "e164324e-c385-4fc4-ee08-0aa93cd21ed9"
      },
      "source": [
        "batting_totals_df[['HR']].describe()"
      ],
      "execution_count": null,
      "outputs": [
        {
          "output_type": "execute_result",
          "data": {
            "text/html": [
              "<div>\n",
              "<style scoped>\n",
              "    .dataframe tbody tr th:only-of-type {\n",
              "        vertical-align: middle;\n",
              "    }\n",
              "\n",
              "    .dataframe tbody tr th {\n",
              "        vertical-align: top;\n",
              "    }\n",
              "\n",
              "    .dataframe thead th {\n",
              "        text-align: right;\n",
              "    }\n",
              "</style>\n",
              "<table border=\"1\" class=\"dataframe\">\n",
              "  <thead>\n",
              "    <tr style=\"text-align: right;\">\n",
              "      <th></th>\n",
              "      <th>HR</th>\n",
              "    </tr>\n",
              "  </thead>\n",
              "  <tbody>\n",
              "    <tr>\n",
              "      <th>count</th>\n",
              "      <td>263.000000</td>\n",
              "    </tr>\n",
              "    <tr>\n",
              "      <th>mean</th>\n",
              "      <td>1152.456274</td>\n",
              "    </tr>\n",
              "    <tr>\n",
              "      <th>std</th>\n",
              "      <td>858.491068</td>\n",
              "    </tr>\n",
              "    <tr>\n",
              "      <th>min</th>\n",
              "      <td>23.000000</td>\n",
              "    </tr>\n",
              "    <tr>\n",
              "      <th>25%</th>\n",
              "      <td>435.500000</td>\n",
              "    </tr>\n",
              "    <tr>\n",
              "      <th>50%</th>\n",
              "      <td>973.000000</td>\n",
              "    </tr>\n",
              "    <tr>\n",
              "      <th>75%</th>\n",
              "      <td>1775.000000</td>\n",
              "    </tr>\n",
              "    <tr>\n",
              "      <th>max</th>\n",
              "      <td>3170.000000</td>\n",
              "    </tr>\n",
              "  </tbody>\n",
              "</table>\n",
              "</div>"
            ],
            "text/plain": [
              "                HR\n",
              "count   263.000000\n",
              "mean   1152.456274\n",
              "std     858.491068\n",
              "min      23.000000\n",
              "25%     435.500000\n",
              "50%     973.000000\n",
              "75%    1775.000000\n",
              "max    3170.000000"
            ]
          },
          "metadata": {
            "tags": []
          },
          "execution_count": 43
        }
      ]
    },
    {
      "cell_type": "markdown",
      "metadata": {
        "id": "c8tNE5N-JvS9"
      },
      "source": [
        "I created a df with the players who tested positive for PEDs and/or were suspended. Let's look at HRs in the Positive DF and test that against the NoPEDs DF."
      ]
    },
    {
      "cell_type": "code",
      "metadata": {
        "id": "a6zQ8UtfNZiL",
        "colab": {
          "base_uri": "https://localhost:8080/",
          "height": 297
        },
        "outputId": "a1bcc5a3-ba30-4740-da69-21fcd7309332"
      },
      "source": [
        "Positive[['HR']].describe()"
      ],
      "execution_count": null,
      "outputs": [
        {
          "output_type": "execute_result",
          "data": {
            "text/html": [
              "<div>\n",
              "<style scoped>\n",
              "    .dataframe tbody tr th:only-of-type {\n",
              "        vertical-align: middle;\n",
              "    }\n",
              "\n",
              "    .dataframe tbody tr th {\n",
              "        vertical-align: top;\n",
              "    }\n",
              "\n",
              "    .dataframe thead th {\n",
              "        text-align: right;\n",
              "    }\n",
              "</style>\n",
              "<table border=\"1\" class=\"dataframe\">\n",
              "  <thead>\n",
              "    <tr style=\"text-align: right;\">\n",
              "      <th></th>\n",
              "      <th>HR</th>\n",
              "    </tr>\n",
              "  </thead>\n",
              "  <tbody>\n",
              "    <tr>\n",
              "      <th>count</th>\n",
              "      <td>766.000000</td>\n",
              "    </tr>\n",
              "    <tr>\n",
              "      <th>mean</th>\n",
              "      <td>16.950392</td>\n",
              "    </tr>\n",
              "    <tr>\n",
              "      <th>std</th>\n",
              "      <td>14.250977</td>\n",
              "    </tr>\n",
              "    <tr>\n",
              "      <th>min</th>\n",
              "      <td>0.000000</td>\n",
              "    </tr>\n",
              "    <tr>\n",
              "      <th>25%</th>\n",
              "      <td>5.000000</td>\n",
              "    </tr>\n",
              "    <tr>\n",
              "      <th>50%</th>\n",
              "      <td>14.000000</td>\n",
              "    </tr>\n",
              "    <tr>\n",
              "      <th>75%</th>\n",
              "      <td>26.000000</td>\n",
              "    </tr>\n",
              "    <tr>\n",
              "      <th>max</th>\n",
              "      <td>73.000000</td>\n",
              "    </tr>\n",
              "  </tbody>\n",
              "</table>\n",
              "</div>"
            ],
            "text/plain": [
              "               HR\n",
              "count  766.000000\n",
              "mean    16.950392\n",
              "std     14.250977\n",
              "min      0.000000\n",
              "25%      5.000000\n",
              "50%     14.000000\n",
              "75%     26.000000\n",
              "max     73.000000"
            ]
          },
          "metadata": {
            "tags": []
          },
          "execution_count": 44
        }
      ]
    },
    {
      "cell_type": "markdown",
      "metadata": {
        "id": "qUfWDE2HRNiG"
      },
      "source": [
        "Let's see what the numbers are for the players who didn't take PEDs:"
      ]
    },
    {
      "cell_type": "code",
      "metadata": {
        "id": "SKYIjL1qJt77",
        "colab": {
          "base_uri": "https://localhost:8080/",
          "height": 297
        },
        "outputId": "8f4e3ac6-d607-4a84-e569-a224a347249d"
      },
      "source": [
        "NoPEDs[['HR']].describe()"
      ],
      "execution_count": null,
      "outputs": [
        {
          "output_type": "execute_result",
          "data": {
            "text/html": [
              "<div>\n",
              "<style scoped>\n",
              "    .dataframe tbody tr th:only-of-type {\n",
              "        vertical-align: middle;\n",
              "    }\n",
              "\n",
              "    .dataframe tbody tr th {\n",
              "        vertical-align: top;\n",
              "    }\n",
              "\n",
              "    .dataframe thead th {\n",
              "        text-align: right;\n",
              "    }\n",
              "</style>\n",
              "<table border=\"1\" class=\"dataframe\">\n",
              "  <thead>\n",
              "    <tr style=\"text-align: right;\">\n",
              "      <th></th>\n",
              "      <th>HR</th>\n",
              "    </tr>\n",
              "  </thead>\n",
              "  <tbody>\n",
              "    <tr>\n",
              "      <th>count</th>\n",
              "      <td>12721.000000</td>\n",
              "    </tr>\n",
              "    <tr>\n",
              "      <th>mean</th>\n",
              "      <td>3.543982</td>\n",
              "    </tr>\n",
              "    <tr>\n",
              "      <th>std</th>\n",
              "      <td>7.113951</td>\n",
              "    </tr>\n",
              "    <tr>\n",
              "      <th>min</th>\n",
              "      <td>0.000000</td>\n",
              "    </tr>\n",
              "    <tr>\n",
              "      <th>25%</th>\n",
              "      <td>0.000000</td>\n",
              "    </tr>\n",
              "    <tr>\n",
              "      <th>50%</th>\n",
              "      <td>0.000000</td>\n",
              "    </tr>\n",
              "    <tr>\n",
              "      <th>75%</th>\n",
              "      <td>3.000000</td>\n",
              "    </tr>\n",
              "    <tr>\n",
              "      <th>max</th>\n",
              "      <td>58.000000</td>\n",
              "    </tr>\n",
              "  </tbody>\n",
              "</table>\n",
              "</div>"
            ],
            "text/plain": [
              "                 HR\n",
              "count  12721.000000\n",
              "mean       3.543982\n",
              "std        7.113951\n",
              "min        0.000000\n",
              "25%        0.000000\n",
              "50%        0.000000\n",
              "75%        3.000000\n",
              "max       58.000000"
            ]
          },
          "metadata": {
            "tags": []
          },
          "execution_count": 45
        }
      ]
    },
    {
      "cell_type": "markdown",
      "metadata": {
        "id": "AuZLLWcW79hd"
      },
      "source": [
        "*Statistical testing for significance between the different DFs. I tried several different combinations of years for testing. As I mentioned above, I have chosen to focus on what in the sports world, has been referred to as \"The Steroid Era\", or 1998-2008. (McGwire admitted to using illegal substances in 1998).*\n",
        "\n",
        "*Note, I did not include the tests for the years where there was no significance. I chose these years below as there was statistical significance. That, and they sort of followed the changes in the MLB illegal substances policy as it changed over the years.*\n",
        "\n",
        "Brief history of drug testing in MLB (that's relevant to this study):\n",
        "\n",
        "    1991- Steroids made the list of banned substances. However, there wasn't official testing in MLB.\n",
        "\n",
        "    2003-2004- The Players Assoc. (MLBPA) & owners agreed on a new (anonymous) testing policy*. Urine tests for banned substances began. 'MLB says between 5 and 7 percent of 1,438 anonymous tests were positive for steroids, triggering the start of testing with penalties in 2004. A first positive test results in treatment and a second in a 15-day suspension without pay or fine of up to 10K. Penalties increase to a 25-day suspension or fine of up to 25K for a third positive test, a 50-day suspension or fine of up to 50K for a fourth and a one-year suspension or fine of up to 100K for a fifth.' (USA Today, 2014).\n",
        "\n",
        "*Also, of important note: It was learned later that the results of these tests were then turned over to an investigation into BALCO (Bay Area Laboratory Co-Operative investigation). A list of players was leaked and became published online in many venues. (Also, if you looked at some players like Sosa, McGwire, Bonds, Palmiero, you could tell they were super bulked up and had very different physiques than they had in years prior.)\n",
        "\n",
        "    2005- Drug tests when players report to spring training and then once again on a random date. All players are tested. The players & owners agreed again on stronger penalties: 1st time: 50-day suspension, 2nd time: 100-day ban, 3rd: lifetime\n",
        "\n",
        "    2006- Then Commissioner of the MLB, Bud Selig, ordered an investigation into illegal substances in MLB. He appointed Sen. George Mitchell, who led a 20 month investigation into steroid and HGH (human growth hormone, also banned) use in MLB. Former batboys, clubhouse attendants and trainers were questioned. Out of 5 players that were asked to co-operate b/c of their public comments about testing and drug use in MLB, only one, Frank Thomas gave testimony.\n",
        "The results of the investigation were published in a report in December 2007. Mitchell's investigation focused on \"high profile\" players. (online, Wikipedia, espn, etc.)\n",
        "\n",
        "The policy has changed since the Report came out and penalties have become more strict including heavy fines for not attending treatment programs."
      ]
    },
    {
      "cell_type": "markdown",
      "metadata": {
        "id": "hoDFa2PHK5iG"
      },
      "source": [
        ""
      ]
    },
    {
      "cell_type": "markdown",
      "metadata": {
        "id": "uMawQ8Y8KEKe"
      },
      "source": [
        "Let's first look to see if there are any significant differences between the DFs Positive and NoPEDs. (Positive is players who tested positive for PEDs)"
      ]
    },
    {
      "cell_type": "code",
      "metadata": {
        "id": "FcIvUYhUKDZD",
        "colab": {
          "base_uri": "https://localhost:8080/",
          "height": 34
        },
        "outputId": "84b8db87-5916-44bf-cf97-45f66dc28577"
      },
      "source": [
        "stats.ttest_ind(Positive['HR'], NoPEDs['HR'])"
      ],
      "execution_count": null,
      "outputs": [
        {
          "output_type": "execute_result",
          "data": {
            "text/plain": [
              "Ttest_indResult(statistic=46.81168111314479, pvalue=0.0)"
            ]
          },
          "metadata": {
            "tags": []
          },
          "execution_count": 46
        }
      ]
    },
    {
      "cell_type": "code",
      "metadata": {
        "id": "zuQMyZUVKDVG",
        "colab": {
          "base_uri": "https://localhost:8080/",
          "height": 34
        },
        "outputId": "d1829a3d-8a13-4e45-dc1b-58bf72538891"
      },
      "source": [
        "sample_1_n = Positive.shape[0]\n",
        "sample_2_n = NoPEDs.shape[0]\n",
        "sample_1_mean = Positive['HR'].mean()\n",
        "sample_2_mean = NoPEDs['HR'].mean()\n",
        "sample_1_var = Positive['HR'].var()\n",
        "sample_2_var = NoPEDs['HR'].var()\n",
        "\n",
        "sample_1_mean"
      ],
      "execution_count": null,
      "outputs": [
        {
          "output_type": "execute_result",
          "data": {
            "text/plain": [
              "16.950391644908617"
            ]
          },
          "metadata": {
            "tags": []
          },
          "execution_count": 47
        }
      ]
    },
    {
      "cell_type": "code",
      "metadata": {
        "id": "3z94FbfZKDRs",
        "colab": {
          "base_uri": "https://localhost:8080/",
          "height": 34
        },
        "outputId": "949c92bc-f122-4029-c5b0-bbc1883e1949"
      },
      "source": [
        "sample_2_mean"
      ],
      "execution_count": null,
      "outputs": [
        {
          "output_type": "execute_result",
          "data": {
            "text/plain": [
              "3.5439823913214368"
            ]
          },
          "metadata": {
            "tags": []
          },
          "execution_count": 48
        }
      ]
    },
    {
      "cell_type": "code",
      "metadata": {
        "id": "dBv6eRByKDNW",
        "colab": {
          "base_uri": "https://localhost:8080/",
          "height": 34
        },
        "outputId": "b267fd57-0ccb-40a7-ace3-ff24d1d90ace"
      },
      "source": [
        "#define a function b/c you'll use this again\n",
        "\n",
        "def get_95_ci(array_1, array_2):\n",
        "    sample_1_n = array_1.shape[0]\n",
        "    sample_2_n = array_2.shape[0]\n",
        "    sample_1_mean = array_1.mean()\n",
        "    sample_2_mean = array_2.mean()\n",
        "    sample_1_var = array_1.var()\n",
        "    sample_2_var = array_2.var()\n",
        "    mean_difference = sample_2_mean - sample_1_mean\n",
        "    std_err_difference = math.sqrt((sample_1_var/sample_1_n)+(sample_2_var/sample_2_n))\n",
        "    margin_of_error = 1.96 * std_err_difference\n",
        "    ci_lower = mean_difference - margin_of_error\n",
        "    ci_upper = mean_difference + margin_of_error\n",
        "    return(\"The difference in means of HR's at the 95% confidence interval (two-tail) is between \"+str(ci_lower)+\" and \"+str(ci_upper)+\".\")\n",
        "\n",
        "get_95_ci(Positive['HR'],NoPEDs['HR'])"
      ],
      "execution_count": null,
      "outputs": [
        {
          "output_type": "execute_result",
          "data": {
            "text/plain": [
              "\"The difference in means of HR's at the 95% confidence interval (two-tail) is between -14.423173923559034 and -12.389644583615326.\""
            ]
          },
          "metadata": {
            "tags": []
          },
          "execution_count": 49
        }
      ]
    },
    {
      "cell_type": "code",
      "metadata": {
        "id": "-S4736qeKDJa",
        "colab": {
          "base_uri": "https://localhost:8080/",
          "height": 34
        },
        "outputId": "378a30da-d95d-4506-b8fe-0b12ca269d48"
      },
      "source": [
        "#define Cohen's d function, you'll use again\n",
        "def get_cohens_d(array_1, array_2):\n",
        "    sample_1_n = array_1.shape[0]\n",
        "    sample_2_n = array_2.shape[0]\n",
        "    sample_1_mean = array_1.mean()\n",
        "    sample_2_mean = array_2.mean()\n",
        "    sample_1_var = array_1.var()\n",
        "    sample_2_var = array_2.var()\n",
        "    s_pooled = math.sqrt((sample_1_var + sample_2_var)/2)\n",
        "    cohens = (sample_1_mean - sample_2_mean) / s_pooled\n",
        "    \n",
        "    return(\"Cohen's d is: \"+str(cohens)+ \".\")\n",
        "\n",
        "get_cohens_d(Positive['HR'], NoPEDs['HR'])\n"
      ],
      "execution_count": null,
      "outputs": [
        {
          "output_type": "execute_result",
          "data": {
            "text/plain": [
              "\"Cohen's d is: 1.1903327738297478.\""
            ]
          },
          "metadata": {
            "tags": []
          },
          "execution_count": 50
        }
      ]
    },
    {
      "cell_type": "markdown",
      "metadata": {
        "id": "vxiXD01SLGIp"
      },
      "source": [
        "So, with a pvalue < 0.05 and at 95% confidence, the difference in the means of HRs is between -14.200118861699487 and -12.209947615737818. The measure of the strength of the relationship between the two variables is large, at 1.1783430030884505. \n"
      ]
    },
    {
      "cell_type": "markdown",
      "metadata": {
        "id": "tlT20xPTT7Fh"
      },
      "source": [
        "The Mitchell Report came out in 2007. I would think there'd be some difference in HRs from 2006- onward. Let's see!"
      ]
    },
    {
      "cell_type": "markdown",
      "metadata": {
        "id": "s6D5ZTYpmRpn"
      },
      "source": [
        "what about Hits?"
      ]
    },
    {
      "cell_type": "code",
      "metadata": {
        "id": "F816_2eCmRAu",
        "colab": {
          "base_uri": "https://localhost:8080/",
          "height": 34
        },
        "outputId": "bda675d3-9f7b-49b9-c0ec-43b3779deb4b"
      },
      "source": [
        "stats.ttest_ind(Positive['H'], NoPEDs['H'])"
      ],
      "execution_count": null,
      "outputs": [
        {
          "output_type": "execute_result",
          "data": {
            "text/plain": [
              "Ttest_indResult(statistic=37.59118424198419, pvalue=3.41810977282577e-294)"
            ]
          },
          "metadata": {
            "tags": []
          },
          "execution_count": 56
        }
      ]
    },
    {
      "cell_type": "code",
      "metadata": {
        "id": "Q9tuPY8soeCX",
        "colab": {
          "base_uri": "https://localhost:8080/",
          "height": 34
        },
        "outputId": "48d7541b-61d2-4a46-f6dd-82523ac38718"
      },
      "source": [
        "sample_1_n = Positive.shape[0]\n",
        "sample_2_n = NoPEDs.shape[0]\n",
        "sample_1_mean = Positive['H'].mean()\n",
        "sample_2_mean = NoPEDs['H'].mean()\n",
        "sample_1_var = Positive['H'].var()\n",
        "sample_2_var = NoPEDs['H'].var()\n",
        "\n",
        "sample_1_mean"
      ],
      "execution_count": null,
      "outputs": [
        {
          "output_type": "execute_result",
          "data": {
            "text/plain": [
              "104.10313315926894"
            ]
          },
          "metadata": {
            "tags": []
          },
          "execution_count": 61
        }
      ]
    },
    {
      "cell_type": "code",
      "metadata": {
        "id": "kgUEWvw_od6h",
        "colab": {
          "base_uri": "https://localhost:8080/",
          "height": 34
        },
        "outputId": "7652c983-f65c-4bcf-a56b-7d1d3bbc8f2a"
      },
      "source": [
        "sample_2_mean"
      ],
      "execution_count": null,
      "outputs": [
        {
          "output_type": "execute_result",
          "data": {
            "text/plain": [
              "32.40138353902995"
            ]
          },
          "metadata": {
            "tags": []
          },
          "execution_count": 62
        }
      ]
    },
    {
      "cell_type": "code",
      "metadata": {
        "id": "Garyd5QDodzl",
        "colab": {
          "base_uri": "https://localhost:8080/",
          "height": 34
        },
        "outputId": "d26ef1b1-8404-4c65-fe1e-18a3ced9d938"
      },
      "source": [
        "get_95_ci(Positive['H'],NoPEDs['H'])"
      ],
      "execution_count": null,
      "outputs": [
        {
          "output_type": "execute_result",
          "data": {
            "text/plain": [
              "\"The difference in means of HR's at the 95% confidence interval (two-tail) is between -76.2548875153757 and -67.14861172510227.\""
            ]
          },
          "metadata": {
            "tags": []
          },
          "execution_count": 63
        }
      ]
    },
    {
      "cell_type": "code",
      "metadata": {
        "id": "72GNqJS1oqZe",
        "colab": {
          "base_uri": "https://localhost:8080/",
          "height": 34
        },
        "outputId": "bfa48d10-0e71-4c38-a6ed-8fce17586a75"
      },
      "source": [
        "get_cohens_d(Positive['H'], NoPEDs['H'])"
      ],
      "execution_count": null,
      "outputs": [
        {
          "output_type": "execute_result",
          "data": {
            "text/plain": [
              "\"Cohen's d is: 1.2550702720776568.\""
            ]
          },
          "metadata": {
            "tags": []
          },
          "execution_count": 64
        }
      ]
    },
    {
      "cell_type": "markdown",
      "metadata": {
        "id": "XlXaIbLeo8QO"
      },
      "source": [
        "So, after testing another stat, Hits for those who tested positive & those who didn't, the means are 104 & 32, respectively. \n",
        "the pvalue is <0.05, the difference in the means is -76 & -67, and the CD effect is large."
      ]
    },
    {
      "cell_type": "code",
      "metadata": {
        "id": "1MJKKKrKM7eR",
        "colab": {
          "base_uri": "https://localhost:8080/",
          "height": 34
        },
        "outputId": "37ac1265-47d3-482d-8201-cd631cb2609d"
      },
      "source": [
        "stats.ttest_ind(AL_NL_batting98['HR'], AL_NL_batting2008['HR'])"
      ],
      "execution_count": null,
      "outputs": [
        {
          "output_type": "execute_result",
          "data": {
            "text/plain": [
              "Ttest_indResult(statistic=0.9226581772640108, pvalue=0.3562755198672971)"
            ]
          },
          "metadata": {
            "tags": []
          },
          "execution_count": 57
        }
      ]
    },
    {
      "cell_type": "markdown",
      "metadata": {
        "id": "6CIai5hZ156y"
      },
      "source": [
        "Not a sig. difference with a pvalue."
      ]
    },
    {
      "cell_type": "code",
      "metadata": {
        "id": "DCVLxj9tNXKW",
        "colab": {
          "base_uri": "https://localhost:8080/",
          "height": 34
        },
        "outputId": "7c9a1a87-483a-4c9b-fd6d-3549ddf7ff26"
      },
      "source": [
        "# Calculate the sample size, mean and variance of each sample...\n",
        "# We will need this information to calculate standard errors\n",
        "\n",
        "sample_1_n = AL_NL_batting98.shape[0]\n",
        "sample_2_n = AL_NL_batting2008.shape[0]\n",
        "sample_1_mean = AL_NL_batting98['HR'].mean()\n",
        "sample_2_mean = AL_NL_batting2008['HR'].mean()\n",
        "sample_1_var = AL_NL_batting98['HR'].var()\n",
        "sample_2_var = AL_NL_batting2008['HR'].var()\n",
        "\n",
        "sample_1_mean"
      ],
      "execution_count": null,
      "outputs": [
        {
          "output_type": "execute_result",
          "data": {
            "text/plain": [
              "4.201154163231657"
            ]
          },
          "metadata": {
            "tags": []
          },
          "execution_count": 58
        }
      ]
    },
    {
      "cell_type": "code",
      "metadata": {
        "id": "kYjJQVI_N2JF",
        "colab": {
          "base_uri": "https://localhost:8080/",
          "height": 34
        },
        "outputId": "39f25fa5-3ee3-48d8-a54f-d5b0a5fd6b6f"
      },
      "source": [
        "sample_2_mean"
      ],
      "execution_count": null,
      "outputs": [
        {
          "output_type": "execute_result",
          "data": {
            "text/plain": [
              "3.90302066772655"
            ]
          },
          "metadata": {
            "tags": []
          },
          "execution_count": 59
        }
      ]
    },
    {
      "cell_type": "code",
      "metadata": {
        "id": "raw2HjjG1ac6",
        "colab": {
          "base_uri": "https://localhost:8080/",
          "height": 34
        },
        "outputId": "406862d2-9641-4625-d56f-8f2f9d0002ba"
      },
      "source": [
        "get_95_ci(AL_NL_batting98['HR'],AL_NL_batting2008['HR'])"
      ],
      "execution_count": null,
      "outputs": [
        {
          "output_type": "execute_result",
          "data": {
            "text/plain": [
              "\"The difference in means of HR's at the 95% confidence interval (two-tail) is between -0.9328429268167276 and 0.33657593580651335.\""
            ]
          },
          "metadata": {
            "tags": []
          },
          "execution_count": 60
        }
      ]
    },
    {
      "cell_type": "code",
      "metadata": {
        "id": "E4oWmRk3BPlZ",
        "colab": {
          "base_uri": "https://localhost:8080/",
          "height": 34
        },
        "outputId": "edb546ce-11fd-4386-8da2-440db5e5de06"
      },
      "source": [
        "get_cohens_d(AL_NL_batting98['HR'], AL_NL_batting2008['HR'])\n"
      ],
      "execution_count": null,
      "outputs": [
        {
          "output_type": "execute_result",
          "data": {
            "text/plain": [
              "\"Cohen's d is: 0.03708781984554997.\""
            ]
          },
          "metadata": {
            "tags": []
          },
          "execution_count": 49
        }
      ]
    },
    {
      "cell_type": "markdown",
      "metadata": {
        "id": "hO-Ai9ZaBXkn"
      },
      "source": [
        "CONCLUSION: pvalue is not < 0.05 and the effect size is small between the two means for 1998 & 2008."
      ]
    },
    {
      "cell_type": "markdown",
      "metadata": {
        "id": "C0VVnRNCrtW3"
      },
      "source": [
        "Let's try some other years. 2004 & 2008:"
      ]
    },
    {
      "cell_type": "code",
      "metadata": {
        "id": "qjuvZubv_hxs",
        "colab": {
          "base_uri": "https://localhost:8080/",
          "height": 34
        },
        "outputId": "fde48fd8-b611-4f63-9256-56d4f627fb28"
      },
      "source": [
        "#2004 & 2008\n",
        "stats.ttest_ind(AL_NL_batting2004['HR'], AL_NL_batting2008['HR'])"
      ],
      "execution_count": null,
      "outputs": [
        {
          "output_type": "execute_result",
          "data": {
            "text/plain": [
              "Ttest_indResult(statistic=1.89986169363562, pvalue=0.0575675410102583)"
            ]
          },
          "metadata": {
            "tags": []
          },
          "execution_count": 50
        }
      ]
    },
    {
      "cell_type": "code",
      "metadata": {
        "id": "3y6S2LdM_hvL",
        "colab": {
          "base_uri": "https://localhost:8080/",
          "height": 34
        },
        "outputId": "669ce88c-5b04-4a3f-92c6-22b21d2cc9d9"
      },
      "source": [
        "sample_1_n = AL_NL_batting2004.shape[0]\n",
        "sample_2_n = AL_NL_batting2008.shape[0]\n",
        "sample_1_mean = AL_NL_batting2004['HR'].mean()\n",
        "sample_2_mean = AL_NL_batting2008['HR'].mean()\n",
        "sample_1_var = AL_NL_batting2004['HR'].var()\n",
        "sample_2_var = AL_NL_batting2008['HR'].var()\n",
        "\n",
        "sample_1_mean"
      ],
      "execution_count": null,
      "outputs": [
        {
          "output_type": "execute_result",
          "data": {
            "text/plain": [
              "4.511513157894737"
            ]
          },
          "metadata": {
            "tags": []
          },
          "execution_count": 51
        }
      ]
    },
    {
      "cell_type": "code",
      "metadata": {
        "id": "jslxO_I3_hrm",
        "colab": {
          "base_uri": "https://localhost:8080/",
          "height": 34
        },
        "outputId": "3b5ad6d3-2ec8-495a-f789-378414b18b5f"
      },
      "source": [
        "sample_2_mean"
      ],
      "execution_count": null,
      "outputs": [
        {
          "output_type": "execute_result",
          "data": {
            "text/plain": [
              "3.90302066772655"
            ]
          },
          "metadata": {
            "tags": []
          },
          "execution_count": 52
        }
      ]
    },
    {
      "cell_type": "code",
      "metadata": {
        "id": "1ev3LfqrDFyM",
        "colab": {
          "base_uri": "https://localhost:8080/",
          "height": 34
        },
        "outputId": "8329f716-79c3-4100-d0cb-a9f32b6b3674"
      },
      "source": [
        "get_95_ci(AL_NL_batting2004['HR'],AL_NL_batting2008['HR'])"
      ],
      "execution_count": null,
      "outputs": [
        {
          "output_type": "execute_result",
          "data": {
            "text/plain": [
              "\"The difference in means of HR's at the 95% confidence interval (two-tail) is between -1.2373667867105107 and 0.02038180637413678.\""
            ]
          },
          "metadata": {
            "tags": []
          },
          "execution_count": 53
        }
      ]
    },
    {
      "cell_type": "code",
      "metadata": {
        "id": "N5dtRsZgDFvS",
        "colab": {
          "base_uri": "https://localhost:8080/",
          "height": 34
        },
        "outputId": "256fb778-c123-4607-81b3-86618bde3d53"
      },
      "source": [
        "get_cohens_d(AL_NL_batting2004['HR'], AL_NL_batting2008['HR'])"
      ],
      "execution_count": null,
      "outputs": [
        {
          "output_type": "execute_result",
          "data": {
            "text/plain": [
              "\"Cohen's d is: 0.07633557048256172.\""
            ]
          },
          "metadata": {
            "tags": []
          },
          "execution_count": 54
        }
      ]
    },
    {
      "cell_type": "markdown",
      "metadata": {
        "id": "qk4XxXCI55af"
      },
      "source": [
        "Conclusion: 2004 & 2008. This is the biggest difference between means so far @ 95% confidence and pvalue of 0.05...This is significant. The CD effect is small."
      ]
    },
    {
      "cell_type": "markdown",
      "metadata": {
        "id": "-PlfFW9RsQhs"
      },
      "source": [
        "Let's look at an earlier year compared with 2008, after The Mitchell Report came out. (Testing didn't happen until 2002) 2000 & 2008:"
      ]
    },
    {
      "cell_type": "code",
      "metadata": {
        "id": "qSy5Hy4N-NQx",
        "colab": {
          "base_uri": "https://localhost:8080/",
          "height": 34
        },
        "outputId": "e6765134-2838-4b08-a947-17355aa8f1e4"
      },
      "source": [
        "stats.ttest_ind(AL_NL_batting2000['HR'], AL_NL_batting2008['HR'])"
      ],
      "execution_count": null,
      "outputs": [
        {
          "output_type": "execute_result",
          "data": {
            "text/plain": [
              "Ttest_indResult(statistic=1.9864232215731958, pvalue=0.04709467425543852)"
            ]
          },
          "metadata": {
            "tags": []
          },
          "execution_count": 55
        }
      ]
    },
    {
      "cell_type": "code",
      "metadata": {
        "id": "szDjDU1r-Uq5",
        "colab": {
          "base_uri": "https://localhost:8080/",
          "height": 34
        },
        "outputId": "99caa40c-8dcb-4daa-fe72-5147201c8018"
      },
      "source": [
        "sample_1_n = AL_NL_batting2000.shape[0]\n",
        "sample_2_n = AL_NL_batting2008.shape[0]\n",
        "sample_1_mean = AL_NL_batting2000['HR'].mean()\n",
        "sample_2_mean = AL_NL_batting2008['HR'].mean()\n",
        "sample_1_var = AL_NL_batting2000['HR'].var()\n",
        "sample_2_var = AL_NL_batting2008['HR'].var()\n",
        "\n",
        "sample_1_mean"
      ],
      "execution_count": null,
      "outputs": [
        {
          "output_type": "execute_result",
          "data": {
            "text/plain": [
              "4.546825396825397"
            ]
          },
          "metadata": {
            "tags": []
          },
          "execution_count": 56
        }
      ]
    },
    {
      "cell_type": "code",
      "metadata": {
        "id": "bWwD4321-UZ0",
        "colab": {
          "base_uri": "https://localhost:8080/",
          "height": 34
        },
        "outputId": "642ea766-e4d8-4b42-8b7f-208995153dbc"
      },
      "source": [
        "sample_2_mean"
      ],
      "execution_count": null,
      "outputs": [
        {
          "output_type": "execute_result",
          "data": {
            "text/plain": [
              "3.90302066772655"
            ]
          },
          "metadata": {
            "tags": []
          },
          "execution_count": 57
        }
      ]
    },
    {
      "cell_type": "code",
      "metadata": {
        "id": "dZM_u20iygD-",
        "colab": {
          "base_uri": "https://localhost:8080/",
          "height": 34
        },
        "outputId": "db408c0e-0768-41bf-9984-ea01ce12c8c7"
      },
      "source": [
        "get_95_ci(AL_NL_batting2000['HR'],AL_NL_batting2008['HR'])"
      ],
      "execution_count": null,
      "outputs": [
        {
          "output_type": "execute_result",
          "data": {
            "text/plain": [
              "\"The difference in means of HR's at the 95% confidence interval (two-tail) is between -1.2789750277178584 and -0.008634430479834476.\""
            ]
          },
          "metadata": {
            "tags": []
          },
          "execution_count": 58
        }
      ]
    },
    {
      "cell_type": "code",
      "metadata": {
        "id": "ObyLOFIWyf3k",
        "colab": {
          "base_uri": "https://localhost:8080/",
          "height": 34
        },
        "outputId": "de912e67-320e-49be-e2c9-adc0e6d03544"
      },
      "source": [
        "get_cohens_d(AL_NL_batting2000['HR'], AL_NL_batting2008['HR'])"
      ],
      "execution_count": null,
      "outputs": [
        {
          "output_type": "execute_result",
          "data": {
            "text/plain": [
              "\"Cohen's d is: 0.07917684566445889.\""
            ]
          },
          "metadata": {
            "tags": []
          },
          "execution_count": 59
        }
      ]
    },
    {
      "cell_type": "markdown",
      "metadata": {
        "id": "aesLWIZo70_q"
      },
      "source": [
        "2000 and 2008 difference in means at 95% is between: between -1.2789750277178584 and -0.008634430479834476. \n",
        "with a pvalue of 0.047. This is significant. CD is small effect."
      ]
    },
    {
      "cell_type": "markdown",
      "metadata": {
        "id": "wclnxhu9-80m"
      },
      "source": [
        "The findings for 2004 & 2008, and 2000 & 2008 are both significant. Players tested positive in 2003, plus the penalties were harsher after 2005"
      ]
    },
    {
      "cell_type": "markdown",
      "metadata": {
        "id": "_wxM-0EKsXPL"
      },
      "source": [
        "1999 & 2007:"
      ]
    },
    {
      "cell_type": "code",
      "metadata": {
        "id": "okdLvfriDFp8",
        "colab": {
          "base_uri": "https://localhost:8080/",
          "height": 34
        },
        "outputId": "11247eb4-8d7c-4224-cedc-ba024901dab5"
      },
      "source": [
        "stats.ttest_ind(AL_NL_batting99['HR'], AL_NL_batting2007['HR'])"
      ],
      "execution_count": null,
      "outputs": [
        {
          "output_type": "execute_result",
          "data": {
            "text/plain": [
              "Ttest_indResult(statistic=2.2047701351673585, pvalue=0.027563377192162956)"
            ]
          },
          "metadata": {
            "tags": []
          },
          "execution_count": 60
        }
      ]
    },
    {
      "cell_type": "markdown",
      "metadata": {
        "id": "0X5k-UHvABNQ"
      },
      "source": [
        "Pvalue < 0.05"
      ]
    },
    {
      "cell_type": "code",
      "metadata": {
        "id": "nLNMJAFy9Rrg",
        "colab": {
          "base_uri": "https://localhost:8080/",
          "height": 34
        },
        "outputId": "302fb797-9e47-4a8a-ce9a-a83f2da2a46a"
      },
      "source": [
        "sample_1_n = AL_NL_batting99.shape[0]\n",
        "sample_2_n = AL_NL_batting2008.shape[0]\n",
        "sample_1_mean = AL_NL_batting99['HR'].mean()\n",
        "sample_2_mean = AL_NL_batting2008['HR'].mean()\n",
        "sample_1_var = AL_NL_batting99['HR'].var()\n",
        "sample_2_var = AL_NL_batting2008['HR'].var()\n",
        "\n",
        "sample_1_mean"
      ],
      "execution_count": null,
      "outputs": [
        {
          "output_type": "execute_result",
          "data": {
            "text/plain": [
              "4.714406779661017"
            ]
          },
          "metadata": {
            "tags": []
          },
          "execution_count": 61
        }
      ]
    },
    {
      "cell_type": "code",
      "metadata": {
        "id": "Pw0QlEkJ9nmf",
        "colab": {
          "base_uri": "https://localhost:8080/",
          "height": 34
        },
        "outputId": "38936853-b4f5-4b34-a41d-39b49e2d9581"
      },
      "source": [
        "sample_2_mean"
      ],
      "execution_count": null,
      "outputs": [
        {
          "output_type": "execute_result",
          "data": {
            "text/plain": [
              "3.90302066772655"
            ]
          },
          "metadata": {
            "tags": []
          },
          "execution_count": 62
        }
      ]
    },
    {
      "cell_type": "code",
      "metadata": {
        "id": "wxtLbJ0LyhSw",
        "colab": {
          "base_uri": "https://localhost:8080/",
          "height": 34
        },
        "outputId": "e171eafb-0aff-400f-e82f-2f5f2f499977"
      },
      "source": [
        "get_95_ci(AL_NL_batting99['HR'],AL_NL_batting2007['HR'])"
      ],
      "execution_count": null,
      "outputs": [
        {
          "output_type": "execute_result",
          "data": {
            "text/plain": [
              "\"The difference in means of HR's at the 95% confidence interval (two-tail) is between -1.4191301653679536 and -0.07963569920050295.\""
            ]
          },
          "metadata": {
            "tags": []
          },
          "execution_count": 63
        }
      ]
    },
    {
      "cell_type": "code",
      "metadata": {
        "id": "47FDbrFyyhPF",
        "colab": {
          "base_uri": "https://localhost:8080/",
          "height": 34
        },
        "outputId": "7b7cf0f4-93a8-446b-afc9-a5902a87f2af"
      },
      "source": [
        "get_cohens_d(AL_NL_batting99['HR'], AL_NL_batting2007['HR'])"
      ],
      "execution_count": null,
      "outputs": [
        {
          "output_type": "execute_result",
          "data": {
            "text/plain": [
              "\"Cohen's d is: 0.0891123911836253.\""
            ]
          },
          "metadata": {
            "tags": []
          },
          "execution_count": 64
        }
      ]
    },
    {
      "cell_type": "markdown",
      "metadata": {
        "id": "Tkjbrr-_Tqve"
      },
      "source": [
        "Pvalue for 1999 & 2007 is <0.05. At 95% confidence, difference between the means is: -1.439857842687028 and -0.14244259303360307. Small effect between the two variables."
      ]
    },
    {
      "cell_type": "code",
      "metadata": {
        "id": "0gSNj83rDFnd",
        "colab": {
          "base_uri": "https://localhost:8080/",
          "height": 34
        },
        "outputId": "9e821c4d-bcae-4312-cbe5-4486b072b7fd"
      },
      "source": [
        "#Keep or not? Probably not!\n",
        "\n",
        "stats.ttest_ind(AL_NL_batting2000['HR'], AL_NL_batting2007['HR'])"
      ],
      "execution_count": null,
      "outputs": [
        {
          "output_type": "execute_result",
          "data": {
            "text/plain": [
              "Ttest_indResult(statistic=1.781207487485598, pvalue=0.07499916699830853)"
            ]
          },
          "metadata": {
            "tags": []
          },
          "execution_count": 65
        }
      ]
    },
    {
      "cell_type": "code",
      "metadata": {
        "id": "CazMcLiW9wPk",
        "colab": {
          "base_uri": "https://localhost:8080/",
          "height": 34
        },
        "outputId": "6ea8de91-7144-426a-f8fd-f05bb9fe481a"
      },
      "source": [
        "sample_1_n = AL_NL_batting2000.shape[0]\n",
        "sample_2_n = AL_NL_batting2007.shape[0]\n",
        "sample_1_mean = AL_NL_batting2000['HR'].mean()\n",
        "sample_2_mean = AL_NL_batting2007['HR'].mean()\n",
        "sample_1_var = AL_NL_batting2000['HR'].var()\n",
        "sample_2_var = AL_NL_batting2007['HR'].var()\n",
        "\n",
        "sample_1_mean"
      ],
      "execution_count": null,
      "outputs": [
        {
          "output_type": "execute_result",
          "data": {
            "text/plain": [
              "4.546825396825397"
            ]
          },
          "metadata": {
            "tags": []
          },
          "execution_count": 66
        }
      ]
    },
    {
      "cell_type": "code",
      "metadata": {
        "id": "sgTM2tUi93M6",
        "colab": {
          "base_uri": "https://localhost:8080/",
          "height": 34
        },
        "outputId": "225d07c6-ca33-4a46-91db-25cc87bc66f7"
      },
      "source": [
        "sample_2_mean"
      ],
      "execution_count": null,
      "outputs": [
        {
          "output_type": "execute_result",
          "data": {
            "text/plain": [
              "3.9650238473767887"
            ]
          },
          "metadata": {
            "tags": []
          },
          "execution_count": 67
        }
      ]
    },
    {
      "cell_type": "code",
      "metadata": {
        "id": "wEQmJzv4DFk3",
        "colab": {
          "base_uri": "https://localhost:8080/",
          "height": 34
        },
        "outputId": "80088335-a886-41d9-d4f3-1eec21dd2f5e"
      },
      "source": [
        "get_95_ci(AL_NL_batting2000['HR'],AL_NL_batting2007['HR'])"
      ],
      "execution_count": null,
      "outputs": [
        {
          "output_type": "execute_result",
          "data": {
            "text/plain": [
              "\"The difference in means of HR's at the 95% confidence interval (two-tail) is between -1.2219404821923683 and 0.05833738329515248.\""
            ]
          },
          "metadata": {
            "tags": []
          },
          "execution_count": 68
        }
      ]
    },
    {
      "cell_type": "code",
      "metadata": {
        "id": "q_0bvG6r6nTz",
        "colab": {
          "base_uri": "https://localhost:8080/",
          "height": 34
        },
        "outputId": "f2e614a9-d8a1-462d-f9d5-c201eb90bbb6"
      },
      "source": [
        "get_cohens_d(AL_NL_batting2000['HR'], AL_NL_batting2007['HR'])"
      ],
      "execution_count": null,
      "outputs": [
        {
          "output_type": "execute_result",
          "data": {
            "text/plain": [
              "\"Cohen's d is: 0.07099665457744397.\""
            ]
          },
          "metadata": {
            "tags": []
          },
          "execution_count": 69
        }
      ]
    },
    {
      "cell_type": "markdown",
      "metadata": {
        "id": "GpmElUFyRtpj"
      },
      "source": [
        "Conclusion: 2000 & 2007: Not a significant p value. Though, the difference in the means (HR) is -1.22 & 0.058 the Cohen's d is very small."
      ]
    },
    {
      "cell_type": "markdown",
      "metadata": {
        "id": "ynhOMhRvNG4k"
      },
      "source": [
        "Last one. Is there a difference between HR's in the NL & AL from 1998-2008?"
      ]
    },
    {
      "cell_type": "code",
      "metadata": {
        "id": "4rcx0aEmNGZX",
        "colab": {
          "base_uri": "https://localhost:8080/",
          "height": 34
        },
        "outputId": "087b7ec7-7724-4612-99fb-5fa94b9b6ffa"
      },
      "source": [
        "stats.ttest_ind(NL_batting98_2008['HR'], AL_batting98_2008['HR'])"
      ],
      "execution_count": null,
      "outputs": [
        {
          "output_type": "execute_result",
          "data": {
            "text/plain": [
              "Ttest_indResult(statistic=-7.644283062553373, pvalue=2.2428382031033772e-14)"
            ]
          },
          "metadata": {
            "tags": []
          },
          "execution_count": 70
        }
      ]
    },
    {
      "cell_type": "code",
      "metadata": {
        "id": "Mdo493kqNGKN",
        "colab": {
          "base_uri": "https://localhost:8080/",
          "height": 34
        },
        "outputId": "081a629a-1c5d-48a3-fe8f-6e970a6fc121"
      },
      "source": [
        "sample_1_n = NL_batting98_2008.shape[0]\n",
        "sample_2_n = AL_batting98_2008.shape[0]\n",
        "sample_1_mean = NL_batting98_2008['HR'].mean()\n",
        "sample_2_mean = AL_batting98_2008['HR'].mean()\n",
        "sample_1_var = NL_batting98_2008['HR'].var()\n",
        "sample_2_var = AL_batting98_2008['HR'].var()\n",
        "\n",
        "sample_1_mean"
      ],
      "execution_count": null,
      "outputs": [
        {
          "output_type": "execute_result",
          "data": {
            "text/plain": [
              "3.848358585858586"
            ]
          },
          "metadata": {
            "tags": []
          },
          "execution_count": 71
        }
      ]
    },
    {
      "cell_type": "code",
      "metadata": {
        "id": "KKRSqxulNF8V",
        "colab": {
          "base_uri": "https://localhost:8080/",
          "height": 34
        },
        "outputId": "c5ab8f5d-b960-4b29-9c3e-cc2bc5666cca"
      },
      "source": [
        "sample_2_mean"
      ],
      "execution_count": null,
      "outputs": [
        {
          "output_type": "execute_result",
          "data": {
            "text/plain": [
              "4.955631399317406"
            ]
          },
          "metadata": {
            "tags": []
          },
          "execution_count": 72
        }
      ]
    },
    {
      "cell_type": "code",
      "metadata": {
        "id": "c1YnCXh_NFsH",
        "colab": {
          "base_uri": "https://localhost:8080/",
          "height": 34
        },
        "outputId": "99e6f5dc-681f-4be3-996a-5120b883a44c"
      },
      "source": [
        "get_95_ci(NL_batting98_2008['HR'],AL_batting98_2008['HR'])"
      ],
      "execution_count": null,
      "outputs": [
        {
          "output_type": "execute_result",
          "data": {
            "text/plain": [
              "\"The difference in means of HR's at the 95% confidence interval (two-tail) is between 0.8195983063786433 and 1.3949473205389973.\""
            ]
          },
          "metadata": {
            "tags": []
          },
          "execution_count": 73
        }
      ]
    },
    {
      "cell_type": "code",
      "metadata": {
        "id": "LyiMl6M3N3Ji",
        "colab": {
          "base_uri": "https://localhost:8080/",
          "height": 34
        },
        "outputId": "82c0dee8-f528-474b-9169-81fa373ee463"
      },
      "source": [
        "get_cohens_d(NL_batting98_2008['HR'], AL_batting98_2008['HR'])"
      ],
      "execution_count": null,
      "outputs": [
        {
          "output_type": "execute_result",
          "data": {
            "text/plain": [
              "\"Cohen's d is: -0.13281233978393991.\""
            ]
          },
          "metadata": {
            "tags": []
          },
          "execution_count": 74
        }
      ]
    },
    {
      "cell_type": "markdown",
      "metadata": {
        "id": "jxIeKc-qp71S"
      },
      "source": [
        "The pvalue is well below <0.05, the difference in the means is between 0.8195983063786433 and 1.3949473205389973 and the effect size/relationship between the variabels is small. So, yes, this is significant."
      ]
    },
    {
      "cell_type": "markdown",
      "metadata": {
        "id": "wVs0gO4cuTzl"
      },
      "source": [
        "*Findings*:\n",
        "I wasn't really sure if I'd be able to reject the null hypothesis, or, if I'd find anything statistically significant for the years of data collected. While I didn't find significance for all years in different combinations of comparisions, I did find 5 different instances of statistical significance in the data (in order of lowest p-value):\n",
        "\n",
        "    1.) Positive vs. NoPEDs\n",
        "    2.) AL batting 98-2008 vs. NL natting 98-2008\n",
        "    3.) 1999 vs. 2007\n",
        "    4.) 2000 vs 2008\n",
        "    5.) 2004 vs. 2008\n",
        "    \n",
        "I think that my findings here add strength to the argument that PEDs did (negatively) affect baseball. Why should some players have a synthetic (unfair) advantage over others? How is that fair? Further, should those players' numbers have permanent asterisks next to them because they did take some sort of PEDs? Should those players ever appear on a HOF ballot? These are valid questions that people discuss and (often) disagree over to this day.\n"
      ]
    },
    {
      "cell_type": "markdown",
      "metadata": {
        "id": "Po3pagb3s3MS"
      },
      "source": [
        "Let's do some visualizations of the results of the statistical significance tests:"
      ]
    },
    {
      "cell_type": "markdown",
      "metadata": {
        "id": "aKMdaowivVCP"
      },
      "source": [
        "AL & NL batting 98-2008. All players, both leagues:"
      ]
    },
    {
      "cell_type": "code",
      "metadata": {
        "id": "69wVOi_Z6m-x",
        "colab": {
          "base_uri": "https://localhost:8080/",
          "height": 355
        },
        "outputId": "8fcc05bf-08e9-4162-cb34-b7badcae2c53"
      },
      "source": [
        "#sns.set_style=\"white\"\n",
        "plt.figure(figsize= (11, 5))\n",
        "ax = sns.lineplot(x=\"Year\", y=\"HR\", hue= \"League\", data=AL_NLbatting98_2008)\n",
        "plt.title(\"Mean HR's, All Players both leagues 1998-2008\")\n",
        "plt.show()"
      ],
      "execution_count": null,
      "outputs": [
        {
          "output_type": "display_data",
          "data": {
            "image/png": "[encoded data removed]",
            "text/plain": [
              "<Figure size 792x360 with 1 Axes>"
            ]
          },
          "metadata": {
            "tags": []
          }
        }
      ]
    },
    {
      "cell_type": "markdown",
      "metadata": {
        "id": "b_KADqHkvZY9"
      },
      "source": [
        "Players who tested positive and/or were suspended vs. those who weren't:"
      ]
    },
    {
      "cell_type": "code",
      "metadata": {
        "id": "i1XI0oiaU9ty",
        "colab": {
          "base_uri": "https://localhost:8080/",
          "height": 355
        },
        "outputId": "c98bf680-d4a8-473d-d51d-c4d32baa6bdd"
      },
      "source": [
        "sns.set_style = \"ticks\"\n",
        "plt.figure(figsize = (11,5))\n",
        "ax = sns.barplot(x='Year', y='HR', palette= \"bright\", hue= \"tested\", data = pd.concat([Positive, NoPEDs]))\n",
        "plt.xlabel('Year')\n",
        "plt.ylabel('Homeruns')\n",
        "plt.title('Mean HRs by Players Per Year Who Tested Positive (16.95) vs. Everyone Else (3.54)')\n",
        "plt.show()"
      ],
      "execution_count": null,
      "outputs": [
        {
          "output_type": "display_data",
          "data": {
            "image/png": "[encoded data removed]",
            "text/plain": [
              "<Figure size 792x360 with 1 Axes>"
            ]
          },
          "metadata": {
            "tags": []
          }
        }
      ]
    },
    {
      "cell_type": "markdown",
      "metadata": {
        "id": "NStPXY1oNgqb"
      },
      "source": [
        "Wow, visualizing the data gives you a different perspective on the stats!"
      ]
    },
    {
      "cell_type": "markdown",
      "metadata": {
        "id": "fA-JIXMhDq2A"
      },
      "source": [
        "AL & NL Players who tested positive visualized as a lineplot:"
      ]
    },
    {
      "cell_type": "code",
      "metadata": {
        "id": "c3kofZUEWkFh",
        "colab": {
          "base_uri": "https://localhost:8080/",
          "height": 355
        },
        "outputId": "a767d81e-4469-4b5b-d6fc-ded06767db90"
      },
      "source": [
        "plt.figure(figsize = (11,5))\n",
        "sns.lineplot(x=\"Year\", y=\"HR\", hue=\"League\", data= Positive)\n",
        "plt.xlabel('Year')\n",
        "plt.ylabel('Homeruns')\n",
        "plt.title('Mean Homeruns by Player, Year and League-Tested Positive, 16.95')\n",
        "plt.show()"
      ],
      "execution_count": null,
      "outputs": [
        {
          "output_type": "display_data",
          "data": {
            "image/png": "[encoded data removed]",
            "text/plain": [
              "<Figure size 792x360 with 1 Axes>"
            ]
          },
          "metadata": {
            "tags": []
          }
        }
      ]
    },
    {
      "cell_type": "markdown",
      "metadata": {
        "id": "gJQ_QIGPEKm2"
      },
      "source": [
        "Mean HRs for players who did not test positive (NoPEDs), visualized as a line plot for comparision:"
      ]
    },
    {
      "cell_type": "code",
      "metadata": {
        "id": "fDMe_LtJYAfe",
        "colab": {
          "base_uri": "https://localhost:8080/",
          "height": 355
        },
        "outputId": "f3347bbf-c494-4010-d938-c81c87a1cfeb"
      },
      "source": [
        "plt.figure(figsize = (11,5))\n",
        "\n",
        "sns.lineplot(x=\"Year\", y=\"HR\", hue=\"League\", data= NoPEDs)\n",
        "plt.xlabel('Year')\n",
        "plt.ylabel('Homeruns')\n",
        "plt.title('Mean Homeruns by Player, Year and League-No PEDs, 3.54')\n",
        "plt.show()"
      ],
      "execution_count": null,
      "outputs": [
        {
          "output_type": "display_data",
          "data": {
            "image/png": "[encoded data removed]",
            "text/plain": [
              "<Figure size 792x360 with 1 Axes>"
            ]
          },
          "metadata": {
            "tags": []
          }
        }
      ]
    },
    {
      "cell_type": "markdown",
      "metadata": {
        "id": "LqwJ0d1GIElM"
      },
      "source": [
        "This is the 2nd significant finding, AL vs. NL batting (all players) 1998-2008:"
      ]
    },
    {
      "cell_type": "code",
      "metadata": {
        "id": "HYz6BIvJqPt9",
        "colab": {
          "base_uri": "https://localhost:8080/",
          "height": 355
        },
        "outputId": "39463a37-e263-446b-d9f8-264920da4790"
      },
      "source": [
        "plt.figure(figsize=(11,5))\n",
        "sns.lineplot(x=\"Year\", y=\"HR\", hue= \"League\", data=pd.concat([NL_batting98_2008, AL_batting98_2008]))\n",
        "plt.xlabel('Year')\n",
        "plt.ylabel('Homeruns')\n",
        "plt.title('Mean Homeruns by Player 98-2008: AL (4.95) vs NL (3.84)')\n",
        "plt.show()\n"
      ],
      "execution_count": null,
      "outputs": [
        {
          "output_type": "display_data",
          "data": {
            "image/png": "[encoded data removed]",
            "text/plain": [
              "<Figure size 792x360 with 1 Axes>"
            ]
          },
          "metadata": {
            "tags": []
          }
        }
      ]
    },
    {
      "cell_type": "markdown",
      "metadata": {
        "id": "U1IiG7_UFFAM"
      },
      "source": [
        "1999 vs. 2007:"
      ]
    },
    {
      "cell_type": "code",
      "metadata": {
        "id": "SqucHzST7os2",
        "colab": {
          "base_uri": "https://localhost:8080/",
          "height": 355
        },
        "outputId": "9381027e-a62a-4c49-caa0-7dce8d1edae8"
      },
      "source": [
        "#1999 & 2007:\n",
        "plt.figure(figsize = (11,5))\n",
        "sns.barplot(x=\"Year\", y=\"HR\", data=pd.concat([AL_NL_batting99, AL_NL_batting2007]))\n",
        "plt.xlabel('Year')\n",
        "plt.ylabel('Homeruns')\n",
        "plt.title('Mean Homeruns by Player 1999 (4.71) & 2007 (3.90)')\n",
        "plt.show()"
      ],
      "execution_count": null,
      "outputs": [
        {
          "output_type": "display_data",
          "data": {
            "image/png": "[encoded data removed]",
            "text/plain": [
              "<Figure size 792x360 with 1 Axes>"
            ]
          },
          "metadata": {
            "tags": []
          }
        }
      ]
    },
    {
      "cell_type": "markdown",
      "metadata": {
        "id": "ekU1XzodFOLY"
      },
      "source": [
        "2000 vs 2008:"
      ]
    },
    {
      "cell_type": "code",
      "metadata": {
        "id": "IUXJnyqX7om9",
        "colab": {
          "base_uri": "https://localhost:8080/",
          "height": 355
        },
        "outputId": "766ecc20-771f-4112-a54c-8c3965c7c3d3"
      },
      "source": [
        "plt.figure(figsize=(11,5))\n",
        "sns.barplot(x=\"Year\", y=\"HR\", data=pd.concat([AL_NL_batting2000, AL_NL_batting2008]))\n",
        "plt.xlabel('Year')\n",
        "plt.ylabel('Homeruns')\n",
        "plt.title('Mean Homeruns by Player 2000 (4.54) & 2008 (3.90)')\n",
        "plt.show()"
      ],
      "execution_count": null,
      "outputs": [
        {
          "output_type": "display_data",
          "data": {
            "image/png": "[encoded data removed]",
            "text/plain": [
              "<Figure size 792x360 with 1 Axes>"
            ]
          },
          "metadata": {
            "tags": []
          }
        }
      ]
    },
    {
      "cell_type": "markdown",
      "metadata": {
        "id": "-WwD6P_UFeVZ"
      },
      "source": [
        "2004 vs. 2008:"
      ]
    },
    {
      "cell_type": "code",
      "metadata": {
        "id": "gRzobxNg7okH",
        "colab": {
          "base_uri": "https://localhost:8080/",
          "height": 355
        },
        "outputId": "4583016d-7c20-46ab-ee23-a39875ce0998"
      },
      "source": [
        "plt.figure(figsize = (11,5))\n",
        "sns.barplot(x=\"Year\", y=\"HR\", data=pd.concat([AL_NL_batting2004, AL_NL_batting2008]))\n",
        "plt.xlabel('Year')\n",
        "plt.ylabel('Homeruns')\n",
        "plt.title('Mean Homeruns by Player 2004 (4.51) & 2008 (3.90) (Both Leagues)')\n",
        "plt.show()"
      ],
      "execution_count": null,
      "outputs": [
        {
          "output_type": "display_data",
          "data": {
            "image/png": "[encoded data removed]",
            "text/plain": [
              "<Figure size 792x360 with 1 Axes>"
            ]
          },
          "metadata": {
            "tags": []
          }
        }
      ]
    },
    {
      "cell_type": "markdown",
      "metadata": {
        "id": "KIiV2ut1O8Kj"
      },
      "source": [
        "I am encouraged by my findings here and I will continue to study this subject. Since the penalties for testing positive are now more severe, I wonder what the hitting numbers look like. I'd like to create some more datasets, maybe post 2008-present and run statistical tests on them. There was a sizable number of pitchers that tested positive and were suspended (on the publicized list from 2003 and in the Mitchell Report). I'm curious now to look at Pitching stats over the years too. Maybe PEDs affected ERA or pitching speed(?) I don't know. \n",
        "\n",
        "But for now, That's all, folks!"
      ]
    },
    {
      "cell_type": "code",
      "metadata": {
        "id": "uAS-CXo86UYH"
      },
      "source": [
        ":)"
      ],
      "execution_count": null,
      "outputs": []
    }
  ]
}